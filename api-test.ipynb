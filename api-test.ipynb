{
 "cells": [
  {
   "cell_type": "code",
   "execution_count": 1,
   "metadata": {},
   "outputs": [],
   "source": [
    "import requests\n",
    "from pymongo import MongoClient\n",
    "import pandas as pd\n",
    "import random"
   ]
  },
  {
   "cell_type": "markdown",
   "metadata": {},
   "source": [
    "# Create user"
   ]
  },
  {
   "cell_type": "code",
   "execution_count": 1771,
   "metadata": {},
   "outputs": [],
   "source": [
    "personajes = ['Barack Obama', 'Voldemort', 'Chewbacca', 'Angela Merkel','Margherita Hack','Valentino Rossi', \n",
    "              'must4in3', 'Aretha Franklin', 'Marge Simpson', 'Darth Vader', 'Yoda', 'R2-D2', 'John Belushi',\n",
    "              'Maccio Capatonda', ' Elon Musk', 'Che Guevara', 'Gollum', 'Samwise Gamgee', 'Jon Snow','Arya Stark',\n",
    "              'Heidi', 'Hermione', 'Pikachu', 'Topolino', 'Berlusconi', 'Greta Thunberg','Hulk', 'Dilan Dog', \n",
    "              'Stephen Hopkins','Oprah Winfre', 'Frida Kahlo','Tyrion Lannister', 'Jennifer Aniston']\n",
    "\n",
    "for personage in personajes:\n",
    "    res = requests.get(f'http://localhost:3000/user/create/{personage}')"
   ]
  },
  {
   "cell_type": "code",
   "execution_count": 1772,
   "metadata": {},
   "outputs": [
    {
     "name": "stdout",
     "output_type": "stream",
     "text": [
      "<Response [500]>\n"
     ]
    }
   ],
   "source": [
    "print(res)"
   ]
  },
  {
   "cell_type": "code",
   "execution_count": 1773,
   "metadata": {},
   "outputs": [
    {
     "data": {
      "text/plain": [
       "{'message': 'Username already exists. Please choose another one!',\n",
       " 'status': 'api-error'}"
      ]
     },
     "execution_count": 1773,
     "metadata": {},
     "output_type": "execute_result"
    }
   ],
   "source": [
    "res.json()"
   ]
  },
  {
   "cell_type": "code",
   "execution_count": 907,
   "metadata": {},
   "outputs": [],
   "source": [
    "# check users in Mongo\n",
    "dbName = \"api_chat_sentiment_analysis\"\n",
    "mongodbURL = f\"mongodb://localhost/{dbName}\"\n",
    "client = MongoClient(mongodbURL, connectTimeoutMS=2000, serverSelectionTimeoutMS=2000)\n",
    "db = client.get_database()"
   ]
  },
  {
   "cell_type": "code",
   "execution_count": 908,
   "metadata": {},
   "outputs": [],
   "source": [
    "cur = db.user.find({\"username\":{\"$ne\": None}})"
   ]
  },
  {
   "cell_type": "code",
   "execution_count": 909,
   "metadata": {},
   "outputs": [
    {
     "data": {
      "text/html": [
       "<div>\n",
       "<style scoped>\n",
       "    .dataframe tbody tr th:only-of-type {\n",
       "        vertical-align: middle;\n",
       "    }\n",
       "\n",
       "    .dataframe tbody tr th {\n",
       "        vertical-align: top;\n",
       "    }\n",
       "\n",
       "    .dataframe thead th {\n",
       "        text-align: right;\n",
       "    }\n",
       "</style>\n",
       "<table border=\"1\" class=\"dataframe\">\n",
       "  <thead>\n",
       "    <tr style=\"text-align: right;\">\n",
       "      <th></th>\n",
       "      <th>_id</th>\n",
       "      <th>username</th>\n",
       "    </tr>\n",
       "  </thead>\n",
       "  <tbody>\n",
       "    <tr>\n",
       "      <th>0</th>\n",
       "      <td>5f0af5eb85f7b2e0de5fb17c</td>\n",
       "      <td>Barack Obama</td>\n",
       "    </tr>\n",
       "    <tr>\n",
       "      <th>1</th>\n",
       "      <td>5f0af5eb85f7b2e0de5fb17d</td>\n",
       "      <td>Voldemort</td>\n",
       "    </tr>\n",
       "    <tr>\n",
       "      <th>2</th>\n",
       "      <td>5f0af5eb85f7b2e0de5fb17e</td>\n",
       "      <td>Chewbacca</td>\n",
       "    </tr>\n",
       "    <tr>\n",
       "      <th>3</th>\n",
       "      <td>5f0af5eb85f7b2e0de5fb17f</td>\n",
       "      <td>Angela Merkel</td>\n",
       "    </tr>\n",
       "    <tr>\n",
       "      <th>4</th>\n",
       "      <td>5f0af5eb85f7b2e0de5fb180</td>\n",
       "      <td>Margherita Hack</td>\n",
       "    </tr>\n",
       "  </tbody>\n",
       "</table>\n",
       "</div>"
      ],
      "text/plain": [
       "                        _id         username\n",
       "0  5f0af5eb85f7b2e0de5fb17c     Barack Obama\n",
       "1  5f0af5eb85f7b2e0de5fb17d        Voldemort\n",
       "2  5f0af5eb85f7b2e0de5fb17e        Chewbacca\n",
       "3  5f0af5eb85f7b2e0de5fb17f    Angela Merkel\n",
       "4  5f0af5eb85f7b2e0de5fb180  Margherita Hack"
      ]
     },
     "execution_count": 909,
     "metadata": {},
     "output_type": "execute_result"
    }
   ],
   "source": [
    "df = pd.DataFrame(cur)\n",
    "df.head()"
   ]
  },
  {
   "cell_type": "markdown",
   "metadata": {},
   "source": [
    "# Create Chat"
   ]
  },
  {
   "cell_type": "code",
   "execution_count": 8,
   "metadata": {},
   "outputs": [],
   "source": [
    "df[\"_id\"]= df[\"_id\"].astype(str) "
   ]
  },
  {
   "cell_type": "code",
   "execution_count": 9,
   "metadata": {},
   "outputs": [],
   "source": [
    "five_chats = ['How I met your mother', 'Dumbledore’s Army', \n",
    "              'Tesla SpaceX','Italian restaurants in Madrid','datamad0620']\n",
    "chats_room = dict()\n",
    "for i,chat in enumerate(five_chats):   \n",
    "    chats_room[f'{chat}']= {'user_ids': [random.choice([row for row in df['_id']]) for _ in range(5)]}"
   ]
  },
  {
   "cell_type": "code",
   "execution_count": 10,
   "metadata": {},
   "outputs": [],
   "source": [
    "for room,user_ids in chats_room.items():\n",
    "    res = requests.get(f'http://localhost:3000/chat/create/{room}?user_id={user_ids.values()}')"
   ]
  },
  {
   "cell_type": "code",
   "execution_count": 11,
   "metadata": {},
   "outputs": [
    {
     "name": "stdout",
     "output_type": "stream",
     "text": [
      "<Response [200]>\n"
     ]
    }
   ],
   "source": [
    "print(res)"
   ]
  },
  {
   "cell_type": "code",
   "execution_count": 12,
   "metadata": {},
   "outputs": [
    {
     "data": {
      "text/plain": [
       "{'chat_users': 3,\n",
       " 'create chat status': 'Ok',\n",
       " 'create users status': 'Some user_id did not exist in the database, or you tried insert the same id many times',\n",
       " 'data': {'_id': {'$oid': '5f0af5f085f7b2e0de5fb1a1'},\n",
       "  'chat_name': 'datamad0620',\n",
       "  'users_ids': ['5f0af5eb85f7b2e0de5fb188',\n",
       "   '5f0af5eb85f7b2e0de5fb199',\n",
       "   '5f0af5eb85f7b2e0de5fb19b']}}"
      ]
     },
     "execution_count": 12,
     "metadata": {},
     "output_type": "execute_result"
    }
   ],
   "source": [
    "res.json()"
   ]
  },
  {
   "cell_type": "code",
   "execution_count": 13,
   "metadata": {},
   "outputs": [],
   "source": [
    "cur = db.chatItem.find({\"chat_name\":{\"$ne\": None}})"
   ]
  },
  {
   "cell_type": "code",
   "execution_count": 14,
   "metadata": {},
   "outputs": [
    {
     "data": {
      "text/html": [
       "<div>\n",
       "<style scoped>\n",
       "    .dataframe tbody tr th:only-of-type {\n",
       "        vertical-align: middle;\n",
       "    }\n",
       "\n",
       "    .dataframe tbody tr th {\n",
       "        vertical-align: top;\n",
       "    }\n",
       "\n",
       "    .dataframe thead th {\n",
       "        text-align: right;\n",
       "    }\n",
       "</style>\n",
       "<table border=\"1\" class=\"dataframe\">\n",
       "  <thead>\n",
       "    <tr style=\"text-align: right;\">\n",
       "      <th></th>\n",
       "      <th>_id</th>\n",
       "      <th>chat_name</th>\n",
       "      <th>users_ids</th>\n",
       "    </tr>\n",
       "  </thead>\n",
       "  <tbody>\n",
       "    <tr>\n",
       "      <th>0</th>\n",
       "      <td>5f0af5ef85f7b2e0de5fb19d</td>\n",
       "      <td>How I met your mother</td>\n",
       "      <td>[5f0af5eb85f7b2e0de5fb191, 5f0af5eb85f7b2e0de5...</td>\n",
       "    </tr>\n",
       "    <tr>\n",
       "      <th>1</th>\n",
       "      <td>5f0af5f085f7b2e0de5fb19e</td>\n",
       "      <td>Dumbledore’s Army</td>\n",
       "      <td>[5f0af5eb85f7b2e0de5fb193, 5f0af5eb85f7b2e0de5...</td>\n",
       "    </tr>\n",
       "    <tr>\n",
       "      <th>2</th>\n",
       "      <td>5f0af5f085f7b2e0de5fb19f</td>\n",
       "      <td>Tesla SpaceX</td>\n",
       "      <td>[5f0af5eb85f7b2e0de5fb187, 5f0af5eb85f7b2e0de5...</td>\n",
       "    </tr>\n",
       "    <tr>\n",
       "      <th>3</th>\n",
       "      <td>5f0af5f085f7b2e0de5fb1a0</td>\n",
       "      <td>Italian restaurants in Madrid</td>\n",
       "      <td>[5f0af5eb85f7b2e0de5fb183, 5f0af5eb85f7b2e0de5...</td>\n",
       "    </tr>\n",
       "    <tr>\n",
       "      <th>4</th>\n",
       "      <td>5f0af5f085f7b2e0de5fb1a1</td>\n",
       "      <td>datamad0620</td>\n",
       "      <td>[5f0af5eb85f7b2e0de5fb188, 5f0af5eb85f7b2e0de5...</td>\n",
       "    </tr>\n",
       "  </tbody>\n",
       "</table>\n",
       "</div>"
      ],
      "text/plain": [
       "                        _id                      chat_name  \\\n",
       "0  5f0af5ef85f7b2e0de5fb19d          How I met your mother   \n",
       "1  5f0af5f085f7b2e0de5fb19e              Dumbledore’s Army   \n",
       "2  5f0af5f085f7b2e0de5fb19f                   Tesla SpaceX   \n",
       "3  5f0af5f085f7b2e0de5fb1a0  Italian restaurants in Madrid   \n",
       "4  5f0af5f085f7b2e0de5fb1a1                    datamad0620   \n",
       "\n",
       "                                           users_ids  \n",
       "0  [5f0af5eb85f7b2e0de5fb191, 5f0af5eb85f7b2e0de5...  \n",
       "1  [5f0af5eb85f7b2e0de5fb193, 5f0af5eb85f7b2e0de5...  \n",
       "2  [5f0af5eb85f7b2e0de5fb187, 5f0af5eb85f7b2e0de5...  \n",
       "3  [5f0af5eb85f7b2e0de5fb183, 5f0af5eb85f7b2e0de5...  \n",
       "4  [5f0af5eb85f7b2e0de5fb188, 5f0af5eb85f7b2e0de5...  "
      ]
     },
     "execution_count": 14,
     "metadata": {},
     "output_type": "execute_result"
    }
   ],
   "source": [
    "df_chat = pd.DataFrame(cur)\n",
    "df_chat.head()"
   ]
  },
  {
   "cell_type": "markdown",
   "metadata": {},
   "source": [
    "# Add user in a Chat"
   ]
  },
  {
   "cell_type": "code",
   "execution_count": 20,
   "metadata": {},
   "outputs": [],
   "source": [
    "df_chat[\"_id\"]= df_chat[\"_id\"].astype(str) "
   ]
  },
  {
   "cell_type": "code",
   "execution_count": 57,
   "metadata": {},
   "outputs": [],
   "source": [
    "user_random = random.choice([row for row in df['_id']])\n",
    "conversation_random = random.choice([row for row in df_chat['_id']])"
   ]
  },
  {
   "cell_type": "code",
   "execution_count": 58,
   "metadata": {},
   "outputs": [],
   "source": [
    "res = requests.get(f'http://localhost:3000/chat/{conversation_random}/adduser?user_id={user_random}')"
   ]
  },
  {
   "cell_type": "code",
   "execution_count": 59,
   "metadata": {},
   "outputs": [
    {
     "name": "stdout",
     "output_type": "stream",
     "text": [
      "<Response [200]>\n"
     ]
    }
   ],
   "source": [
    "print(res)"
   ]
  },
  {
   "cell_type": "code",
   "execution_count": 60,
   "metadata": {},
   "outputs": [
    {
     "data": {
      "text/plain": [
       "{'chat_name': 'Tesla SpaceX',\n",
       " 'users_ids': ['5f0af5eb85f7b2e0de5fb187',\n",
       "  '5f0af5eb85f7b2e0de5fb18f',\n",
       "  '5f0af5eb85f7b2e0de5fb195',\n",
       "  '5f0af5eb85f7b2e0de5fb186',\n",
       "  '5f0af5eb85f7b2e0de5fb19b',\n",
       "  '5f0af5eb85f7b2e0de5fb198']}"
      ]
     },
     "execution_count": 60,
     "metadata": {},
     "output_type": "execute_result"
    }
   ],
   "source": [
    "res.json()"
   ]
  },
  {
   "cell_type": "markdown",
   "metadata": {},
   "source": [
    "# Add message in chat"
   ]
  },
  {
   "cell_type": "markdown",
   "metadata": {},
   "source": [
    "kaggle dataset quote\n",
    "https://www.kaggle.com/coolcoder22/quotes-dataset"
   ]
  },
  {
   "cell_type": "code",
   "execution_count": 61,
   "metadata": {},
   "outputs": [],
   "source": [
    "quote = pd.read_csv('inputs/quote.csv', encoding = 'latin-1')"
   ]
  },
  {
   "cell_type": "code",
   "execution_count": 62,
   "metadata": {},
   "outputs": [
    {
     "data": {
      "text/html": [
       "<div>\n",
       "<style scoped>\n",
       "    .dataframe tbody tr th:only-of-type {\n",
       "        vertical-align: middle;\n",
       "    }\n",
       "\n",
       "    .dataframe tbody tr th {\n",
       "        vertical-align: top;\n",
       "    }\n",
       "\n",
       "    .dataframe thead th {\n",
       "        text-align: right;\n",
       "    }\n",
       "</style>\n",
       "<table border=\"1\" class=\"dataframe\">\n",
       "  <thead>\n",
       "    <tr style=\"text-align: right;\">\n",
       "      <th></th>\n",
       "      <th>Auther</th>\n",
       "      <th>quote</th>\n",
       "    </tr>\n",
       "  </thead>\n",
       "  <tbody>\n",
       "    <tr>\n",
       "      <th>0</th>\n",
       "      <td>A. A. Milne</td>\n",
       "      <td>If you live to be a hundred, I want to live to...</td>\n",
       "    </tr>\n",
       "    <tr>\n",
       "      <th>1</th>\n",
       "      <td>A. A. Milne</td>\n",
       "      <td>Promise me you'll always remember: You're brav...</td>\n",
       "    </tr>\n",
       "    <tr>\n",
       "      <th>2</th>\n",
       "      <td>A. A. Milne</td>\n",
       "      <td>Did you ever stop to think, and forget to star...</td>\n",
       "    </tr>\n",
       "    <tr>\n",
       "      <th>3</th>\n",
       "      <td>A. A. Milne</td>\n",
       "      <td>Organizing is what you do before you do someth...</td>\n",
       "    </tr>\n",
       "    <tr>\n",
       "      <th>4</th>\n",
       "      <td>A. A. Milne</td>\n",
       "      <td>Weeds are flowers too, once you get to know them.</td>\n",
       "    </tr>\n",
       "    <tr>\n",
       "      <th>...</th>\n",
       "      <td>...</td>\n",
       "      <td>...</td>\n",
       "    </tr>\n",
       "    <tr>\n",
       "      <th>36160</th>\n",
       "      <td>Zsa Zsa Gabor</td>\n",
       "      <td>I know nothing about sex, because I was always...</td>\n",
       "    </tr>\n",
       "    <tr>\n",
       "      <th>36161</th>\n",
       "      <td>Zsa Zsa Gabor</td>\n",
       "      <td>Conrad Hilton was very generous to me in the d...</td>\n",
       "    </tr>\n",
       "    <tr>\n",
       "      <th>36162</th>\n",
       "      <td>Zsa Zsa Gabor</td>\n",
       "      <td>The women's movement hasn't changed my sex lif...</td>\n",
       "    </tr>\n",
       "    <tr>\n",
       "      <th>36163</th>\n",
       "      <td>Zsa Zsa Gabor</td>\n",
       "      <td>I always liked parties. You meet people; you c...</td>\n",
       "    </tr>\n",
       "    <tr>\n",
       "      <th>36164</th>\n",
       "      <td>Zsa Zsa Gabor</td>\n",
       "      <td>I love to put on diamonds and beautiful evenin...</td>\n",
       "    </tr>\n",
       "  </tbody>\n",
       "</table>\n",
       "<p>36165 rows × 2 columns</p>\n",
       "</div>"
      ],
      "text/plain": [
       "              Auther                                              quote\n",
       "0        A. A. Milne  If you live to be a hundred, I want to live to...\n",
       "1        A. A. Milne  Promise me you'll always remember: You're brav...\n",
       "2        A. A. Milne  Did you ever stop to think, and forget to star...\n",
       "3        A. A. Milne  Organizing is what you do before you do someth...\n",
       "4        A. A. Milne  Weeds are flowers too, once you get to know them.\n",
       "...              ...                                                ...\n",
       "36160  Zsa Zsa Gabor  I know nothing about sex, because I was always...\n",
       "36161  Zsa Zsa Gabor  Conrad Hilton was very generous to me in the d...\n",
       "36162  Zsa Zsa Gabor  The women's movement hasn't changed my sex lif...\n",
       "36163  Zsa Zsa Gabor  I always liked parties. You meet people; you c...\n",
       "36164  Zsa Zsa Gabor  I love to put on diamonds and beautiful evenin...\n",
       "\n",
       "[36165 rows x 2 columns]"
      ]
     },
     "execution_count": 62,
     "metadata": {},
     "output_type": "execute_result"
    }
   ],
   "source": [
    "quote"
   ]
  },
  {
   "cell_type": "code",
   "execution_count": 93,
   "metadata": {},
   "outputs": [],
   "source": [
    "conversations = []\n",
    "for _ in range(100):\n",
    "    conversations.append({random.choice([row for row in df['_id']]): random.choice([row for row in quote['quote']])})"
   ]
  },
  {
   "cell_type": "code",
   "execution_count": 94,
   "metadata": {},
   "outputs": [],
   "source": [
    "conversation_random = random.choice([row for row in df_chat['_id']])"
   ]
  },
  {
   "cell_type": "code",
   "execution_count": 95,
   "metadata": {},
   "outputs": [],
   "source": [
    "for dic in conversations:\n",
    "    for key,values in dic.items():\n",
    "        res = requests.get(f'http://localhost:3000/chat/{conversation_random}/addmessage?user_id={key}&text={values}')"
   ]
  },
  {
   "cell_type": "code",
   "execution_count": 96,
   "metadata": {},
   "outputs": [
    {
     "name": "stdout",
     "output_type": "stream",
     "text": [
      "<Response [200]>\n"
     ]
    }
   ],
   "source": [
    "print(res)"
   ]
  },
  {
   "cell_type": "code",
   "execution_count": 97,
   "metadata": {},
   "outputs": [
    {
     "data": {
      "text/plain": [
       "{'conversation_id': '5f0af5f085f7b2e0de5fb19e',\n",
       " 'messages': {'text': 'Without deviation progress is not possible.',\n",
       "  'user_id': '5f0af5eb85f7b2e0de5fb184'}}"
      ]
     },
     "execution_count": 97,
     "metadata": {},
     "output_type": "execute_result"
    }
   ],
   "source": [
    "res.json()"
   ]
  },
  {
   "cell_type": "markdown",
   "metadata": {},
   "source": [
    "# Get messages list from a chat"
   ]
  },
  {
   "cell_type": "code",
   "execution_count": 354,
   "metadata": {},
   "outputs": [],
   "source": [
    "conversation_random = random.choice([row for row in df_chat['_id']])"
   ]
  },
  {
   "cell_type": "code",
   "execution_count": 355,
   "metadata": {},
   "outputs": [],
   "source": [
    "res = requests.get(f'http://localhost:3000/chat/{conversation_random}/list')"
   ]
  },
  {
   "cell_type": "code",
   "execution_count": 356,
   "metadata": {},
   "outputs": [
    {
     "name": "stdout",
     "output_type": "stream",
     "text": [
      "<Response [200]>\n"
     ]
    }
   ],
   "source": [
    "print(res)"
   ]
  },
  {
   "cell_type": "code",
   "execution_count": 359,
   "metadata": {},
   "outputs": [
    {
     "data": {
      "text/plain": [
       "{'chat_name': 'Italian restaurants in Madrid',\n",
       " 'conversation_id': {'$oid': '5f0af5f085f7b2e0de5fb1a0'},\n",
       " 'messages': [{'message': 'My father had been in the German Diplomatic Service, and although he had been in the United States since World War II and out of diplomacy, it was something that was very much talked about in the family. So when I went to college, it was always my intention to try to get into the Foreign Service.',\n",
       "   'user_id': '5f0af5eb85f7b2e0de5fb192',\n",
       "   'username': 'Pikachu'},\n",
       "  {'message': 'My writing, like everything I do, comes profoundly from my heart. I believe that if you follow your heart you will be successful in one way or another. Old-fashioned as that might sound, the philosophy is true.',\n",
       "   'user_id': '5f0af5eb85f7b2e0de5fb193',\n",
       "   'username': 'Topolino'},\n",
       "  {'message': 'Motivation is the art of getting people to do what you want them to do because they want to do it.',\n",
       "   'user_id': '5f0af5eb85f7b2e0de5fb183',\n",
       "   'username': 'Aretha Franklin'},\n",
       "  {'message': \"When people say, 'If you could do anything else, what would you do?' I would be an actress. That's something that I would do - I can't see myself doing anything else.\",\n",
       "   'user_id': '5f0af5eb85f7b2e0de5fb183',\n",
       "   'username': 'Aretha Franklin'},\n",
       "  {'message': 'You must pay the price if you wish to secure the blessing.',\n",
       "   'user_id': '5f0af5eb85f7b2e0de5fb17f',\n",
       "   'username': 'Angela Merkel'},\n",
       "  {'message': 'To the biologist the problem of socialism appears largely as a problem of size.',\n",
       "   'user_id': '5f0af5eb85f7b2e0de5fb193',\n",
       "   'username': 'Topolino'},\n",
       "  {'message': \"In-N-Out is incredible, but don't tell coach I've been going there. He would flip out and put some curse on me.\",\n",
       "   'user_id': '5f0af5eb85f7b2e0de5fb183',\n",
       "   'username': 'Aretha Franklin'},\n",
       "  {'message': \"A trumpet sounds pretty much like a trumpet, and that's true of a lot instruments; pianos sound like pianos, but there's something about the guitar - the range of possibilities is much broader.\",\n",
       "   'user_id': '5f0af5eb85f7b2e0de5fb183',\n",
       "   'username': 'Aretha Franklin'},\n",
       "  {'message': \"No man who worships education has got the best out of education... Without a gentle contempt for education no man's education is complete.\",\n",
       "   'user_id': '5f0af5eb85f7b2e0de5fb17f',\n",
       "   'username': 'Angela Merkel'},\n",
       "  {'message': 'From an early age, I was infatuated with music. I always loved it and was always dancing or playing something.',\n",
       "   'user_id': '5f0af5eb85f7b2e0de5fb17f',\n",
       "   'username': 'Angela Merkel'},\n",
       "  {'message': 'We just want to be remembered before something is set in stone.',\n",
       "   'user_id': '5f0af5eb85f7b2e0de5fb192',\n",
       "   'username': 'Pikachu'},\n",
       "  {'message': 'The wish for healing has always been half of health.',\n",
       "   'user_id': '5f0af5eb85f7b2e0de5fb18e',\n",
       "   'username': 'Jon Snow'},\n",
       "  {'message': 'Washington is like a self-sealing tank on a military aircraft. When a bullet passes through, it closes up.',\n",
       "   'user_id': '5f0af5eb85f7b2e0de5fb192',\n",
       "   'username': 'Pikachu'},\n",
       "  {'message': \"My dad had the greatest admiration for MacArthur when they were working together in Washington before the Philippines. And Dad used to talk with absolute awe about MacArthur's brain.\",\n",
       "   'user_id': '5f0af5eb85f7b2e0de5fb192',\n",
       "   'username': 'Pikachu'},\n",
       "  {'message': \"The city's the best gallery I could imagine. I would never have to make a book and then present it to a gallery and let them decide if my work was nice enough to show it to people. I would control it directly with the public in the streets.\",\n",
       "   'user_id': '5f0af5eb85f7b2e0de5fb18e',\n",
       "   'username': 'Jon Snow'},\n",
       "  {'message': 'Femininity is not just lipstick, stylish hairdos, and trendy clothes. It is the divine adornment of humanity. It finds expression in your qualities of your capacity to love, your spirituality, delicacy, radiance, sensitivity, creativity, charm, graciousness, gentleness, dignity, and quiet strength.',\n",
       "   'user_id': '5f0af5eb85f7b2e0de5fb17f',\n",
       "   'username': 'Angela Merkel'},\n",
       "  {'message': 'There are many ways of going forward, but only one way of standing still.',\n",
       "   'user_id': '5f0af5eb85f7b2e0de5fb18e',\n",
       "   'username': 'Jon Snow'}]}"
      ]
     },
     "execution_count": 359,
     "metadata": {},
     "output_type": "execute_result"
    }
   ],
   "source": [
    "res.json()"
   ]
  },
  {
   "cell_type": "markdown",
   "metadata": {},
   "source": [
    "# Get sentiment analysis"
   ]
  },
  {
   "cell_type": "markdown",
   "metadata": {},
   "source": [
    "NLP & Text Sentiment Analysis:\n",
    "​\n",
    "- [https://www.nltk.org/]\n",
    "- [https://towardsdatascience.com/basic-binary-sentiment-analysis-using-nltk-c94ba17ae386]\n",
    "- [https://www.digitalocean.com/community/tutorials/how-to-perform-sentiment-analysis-in-python-3-using-the-natural-language-toolkit-nltk]"
   ]
  },
  {
   "cell_type": "code",
   "execution_count": 624,
   "metadata": {},
   "outputs": [],
   "source": [
    "conversation_random = random.choice([row for row in df_chat['_id']])"
   ]
  },
  {
   "cell_type": "code",
   "execution_count": 625,
   "metadata": {},
   "outputs": [],
   "source": [
    "res = requests.get(f'http://localhost:3000/chat/{conversation_random}/sentiment')"
   ]
  },
  {
   "cell_type": "code",
   "execution_count": 626,
   "metadata": {},
   "outputs": [
    {
     "data": {
      "text/plain": [
       "[{'sentence': \"I'm just trying to portray what I find ironic or humorous.\",\n",
       "  'sentiment': {'neg': 0.124, 'neu': 0.661, 'pos': 0.215, 'compound': 0.2732}},\n",
       " {'sentence': 'Art knows neither doctrine nor idea; its nature is to show.',\n",
       "  'sentiment': {'neg': 0.0, 'neu': 1.0, 'pos': 0.0, 'compound': 0.0}},\n",
       " {'sentence': \"When you want a thing done, 'Don't do it yourself' is a good motto for Scoutmasters.\",\n",
       "  'sentiment': {'neg': 0.0, 'neu': 0.741, 'pos': 0.259, 'compound': 0.4939}},\n",
       " {'sentence': \"I don't think necessity is the mother of invention.\",\n",
       "  'sentiment': {'neg': 0.0, 'neu': 1.0, 'pos': 0.0, 'compound': 0.0}},\n",
       " {'sentence': 'Invention, in my opinion, arises directly from idleness, possibly also from laziness - to save oneself trouble.',\n",
       "  'sentiment': {'neg': 0.136, 'neu': 0.704, 'pos': 0.161, 'compound': 0.128}},\n",
       " {'sentence': \"What's amazing is, if young people understood how doing well in school makes the rest of their life so much interesting, they would be more motivated.\",\n",
       "  'sentiment': {'neg': 0.0, 'neu': 0.644, 'pos': 0.356, 'compound': 0.9036}},\n",
       " {'sentence': \"It's so far away in time that they can't appreciate what it means for their whole life.\",\n",
       "  'sentiment': {'neg': 0.124, 'neu': 0.876, 'pos': 0.0, 'compound': -0.3089}},\n",
       " {'sentence': 'I have to give a lot of credit to Sandy Weill, because he gets it.',\n",
       "  'sentiment': {'neg': 0.0, 'neu': 0.822, 'pos': 0.178, 'compound': 0.3818}},\n",
       " {'sentence': \"He gets the power of the women's contribution to the economy.\",\n",
       "  'sentiment': {'neg': 0.0, 'neu': 1.0, 'pos': 0.0, 'compound': 0.0}},\n",
       " {'sentence': 'I am doing things that are true to me.',\n",
       "  'sentiment': {'neg': 0.0, 'neu': 0.714, 'pos': 0.286, 'compound': 0.4215}},\n",
       " {'sentence': 'The only thing I have a problem with is being labeled.',\n",
       "  'sentiment': {'neg': 0.252, 'neu': 0.748, 'pos': 0.0, 'compound': -0.4019}},\n",
       " {'sentence': 'Publishing your work is important.',\n",
       "  'sentiment': {'neg': 0.0, 'neu': 0.69, 'pos': 0.31, 'compound': 0.2023}},\n",
       " {'sentence': 'Even if you are giving a piece to some smaller publication for free, you will learn something about your writing.',\n",
       "  'sentiment': {'neg': 0.0, 'neu': 0.749, 'pos': 0.251, 'compound': 0.6908}},\n",
       " {'sentence': 'The editor will say something, friends will mention it.',\n",
       "  'sentiment': {'neg': 0.0, 'neu': 0.721, 'pos': 0.279, 'compound': 0.4767}},\n",
       " {'sentence': 'You will learn.',\n",
       "  'sentiment': {'neg': 0.0, 'neu': 1.0, 'pos': 0.0, 'compound': 0.0}},\n",
       " {'sentence': \"It seems, in fact, as though the second half of a man's life is made up of nothing, but the habits he has accumulated during the first half.\",\n",
       "  'sentiment': {'neg': 0.0, 'neu': 1.0, 'pos': 0.0, 'compound': 0.0}},\n",
       " {'sentence': 'My childhood dream was to play basketball, actually.',\n",
       "  'sentiment': {'neg': 0.0, 'neu': 0.577, 'pos': 0.423, 'compound': 0.5267}},\n",
       " {'sentence': 'Obviously I faced the possibility of not returning when first I considered going.',\n",
       "  'sentiment': {'neg': 0.0, 'neu': 1.0, 'pos': 0.0, 'compound': 0.0}},\n",
       " {'sentence': \"Once faced and settled there really wasn't any good reason to refer to it.\",\n",
       "  'sentiment': {'neg': 0.17, 'neu': 0.83, 'pos': 0.0, 'compound': -0.3959}},\n",
       " {'sentence': \"If you don't have anything nice to say... dead silence creates a lot awkwardness.\",\n",
       "  'sentiment': {'neg': 0.429,\n",
       "   'neu': 0.463,\n",
       "   'pos': 0.108,\n",
       "   'compound': -0.7377}},\n",
       " {'sentence': 'An optimist is someone who gets treed by a lion but enjoys the scenery.',\n",
       "  'sentiment': {'neg': 0.0, 'neu': 0.623, 'pos': 0.377, 'compound': 0.7684}},\n",
       " {'sentence': 'I think the obvious answer is I was raised in New York City, so growing up, not only myself but my family, like my father, we would watch a lot of Scorsese films.',\n",
       "  'sentiment': {'neg': 0.0, 'neu': 0.852, 'pos': 0.148, 'compound': 0.5955}},\n",
       " {'sentence': 'Silence is a true friend who never betrays.',\n",
       "  'sentiment': {'neg': 0.0, 'neu': 0.311, 'pos': 0.689, 'compound': 0.8338}},\n",
       " {'sentence': \"We've been using C and C   way too much - they're nice, but they're very close to the machine and what we wanted was to empower regular users to build applications for Linux.\",\n",
       "  'sentiment': {'neg': 0.0, 'neu': 0.939, 'pos': 0.061, 'compound': 0.2263}},\n",
       " {'sentence': 'Being a barber is about taking care of the people.',\n",
       "  'sentiment': {'neg': 0.0, 'neu': 0.714, 'pos': 0.286, 'compound': 0.4939}}]"
      ]
     },
     "execution_count": 626,
     "metadata": {},
     "output_type": "execute_result"
    }
   ],
   "source": [
    "res.json()"
   ]
  },
  {
   "cell_type": "markdown",
   "metadata": {},
   "source": [
    "# Get reccomender analysis"
   ]
  },
  {
   "cell_type": "code",
   "execution_count": 1764,
   "metadata": {},
   "outputs": [],
   "source": [
    "user_random = random.choice([row for row in df['_id']])"
   ]
  },
  {
   "cell_type": "code",
   "execution_count": 1765,
   "metadata": {},
   "outputs": [],
   "source": [
    "res = requests.get(f'http://localhost:3000/user/{user_random}/recommend')"
   ]
  },
  {
   "cell_type": "code",
   "execution_count": 1766,
   "metadata": {},
   "outputs": [
    {
     "name": "stdout",
     "output_type": "stream",
     "text": [
      "<Response [200]>\n"
     ]
    }
   ],
   "source": [
    "print(res)"
   ]
  },
  {
   "cell_type": "code",
   "execution_count": 1767,
   "metadata": {},
   "outputs": [
    {
     "data": {
      "text/plain": [
       "{'Me': {'Pikachu': 1.0},\n",
       " 'Recommended users': {'Angela Merkel': 0.5149709740270669,\n",
       "  'Greta Thunberg': 0.5875626567521308,\n",
       "  'John Belushi': 0.5667667460459788,\n",
       "  'Marge Simpson': 0.6085071734461294,\n",
       "  'Oprah Winfre': 0.5978005331549622}}"
      ]
     },
     "execution_count": 1767,
     "metadata": {},
     "output_type": "execute_result"
    }
   ],
   "source": [
    "res.json()"
   ]
  },
  {
   "cell_type": "code",
   "execution_count": null,
   "metadata": {},
   "outputs": [],
   "source": []
  }
 ],
 "metadata": {
  "kernelspec": {
   "display_name": "Python 3",
   "language": "python",
   "name": "python3"
  },
  "language_info": {
   "codemirror_mode": {
    "name": "ipython",
    "version": 3
   },
   "file_extension": ".py",
   "mimetype": "text/x-python",
   "name": "python",
   "nbconvert_exporter": "python",
   "pygments_lexer": "ipython3",
   "version": "3.7.6"
  }
 },
 "nbformat": 4,
 "nbformat_minor": 4
}
