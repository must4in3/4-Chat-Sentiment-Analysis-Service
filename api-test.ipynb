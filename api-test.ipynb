{
 "cells": [
  {
   "cell_type": "code",
   "execution_count": 1,
   "metadata": {},
   "outputs": [],
   "source": [
    "import requests\n",
    "from pymongo import MongoClient\n",
    "import pandas as pd\n",
    "import random"
   ]
  },
  {
   "cell_type": "markdown",
   "metadata": {},
   "source": [
    "# Create user"
   ]
  },
  {
   "cell_type": "code",
   "execution_count": 2,
   "metadata": {},
   "outputs": [],
   "source": [
    "personajes = ['Barack Obama', 'Voldemort', 'Chewbacca', 'Angela Merkel','Margherita Hack','Valentino Rossi', \n",
    "              'must4in3', 'Aretha Franklin', 'Marge Simpson', 'Darth Vader', 'Yoda', 'R2-D2', 'John Belushi',\n",
    "              'Maccio Capatonda', ' Elon Musk', 'Che Guevara', 'Gollum', 'Samwise Gamgee', 'Jon Snow','Arya Stark',\n",
    "              'Heidi', 'Hermione', 'Pikachu', 'Topolino', 'Berlusconi', 'Greta Thunberg','Hulk', 'Dilan Dog', \n",
    "              'Stephen Hopkins','Oprah Winfre', 'Frida Kahlo','Tyrion Lannister', 'Jennifer Aniston']\n",
    "\n",
    "for personage in personajes:\n",
    "    res = requests.get(f'http://localhost:3000/user/create/{personage}')"
   ]
  },
  {
   "cell_type": "code",
   "execution_count": 3,
   "metadata": {},
   "outputs": [
    {
     "name": "stdout",
     "output_type": "stream",
     "text": [
      "<Response [500]>\n"
     ]
    }
   ],
   "source": [
    "print(res)"
   ]
  },
  {
   "cell_type": "code",
   "execution_count": 4,
   "metadata": {},
   "outputs": [
    {
     "data": {
      "text/plain": [
       "{'message': \"name 'db' is not defined\", 'status': 'error'}"
      ]
     },
     "execution_count": 4,
     "metadata": {},
     "output_type": "execute_result"
    }
   ],
   "source": [
    "res.json()"
   ]
  },
  {
   "cell_type": "code",
   "execution_count": 5,
   "metadata": {},
   "outputs": [],
   "source": [
    "# check users in Mongo\n",
    "dbName = \"api_chat_sentiment_analysis\"\n",
    "mongodbURL = f\"mongodb://localhost/{dbName}\"\n",
    "client = MongoClient(mongodbURL, connectTimeoutMS=2000, serverSelectionTimeoutMS=2000)\n",
    "db = client.get_database()"
   ]
  },
  {
   "cell_type": "code",
   "execution_count": 6,
   "metadata": {},
   "outputs": [],
   "source": [
    "cur = db.user.find({\"username\":{\"$ne\": None}})"
   ]
  },
  {
   "cell_type": "code",
   "execution_count": 7,
   "metadata": {},
   "outputs": [
    {
     "data": {
      "text/html": [
       "<div>\n",
       "<style scoped>\n",
       "    .dataframe tbody tr th:only-of-type {\n",
       "        vertical-align: middle;\n",
       "    }\n",
       "\n",
       "    .dataframe tbody tr th {\n",
       "        vertical-align: top;\n",
       "    }\n",
       "\n",
       "    .dataframe thead th {\n",
       "        text-align: right;\n",
       "    }\n",
       "</style>\n",
       "<table border=\"1\" class=\"dataframe\">\n",
       "  <thead>\n",
       "    <tr style=\"text-align: right;\">\n",
       "      <th></th>\n",
       "      <th>_id</th>\n",
       "      <th>username</th>\n",
       "    </tr>\n",
       "  </thead>\n",
       "  <tbody>\n",
       "    <tr>\n",
       "      <th>0</th>\n",
       "      <td>5f0ca75139a4fd996c03d531</td>\n",
       "      <td>Barack Obama</td>\n",
       "    </tr>\n",
       "    <tr>\n",
       "      <th>1</th>\n",
       "      <td>5f0ca75139a4fd996c03d532</td>\n",
       "      <td>Voldemort</td>\n",
       "    </tr>\n",
       "    <tr>\n",
       "      <th>2</th>\n",
       "      <td>5f0ca75139a4fd996c03d533</td>\n",
       "      <td>Chewbacca</td>\n",
       "    </tr>\n",
       "    <tr>\n",
       "      <th>3</th>\n",
       "      <td>5f0ca75139a4fd996c03d534</td>\n",
       "      <td>Angela Merkel</td>\n",
       "    </tr>\n",
       "    <tr>\n",
       "      <th>4</th>\n",
       "      <td>5f0ca75139a4fd996c03d535</td>\n",
       "      <td>Margherita Hack</td>\n",
       "    </tr>\n",
       "  </tbody>\n",
       "</table>\n",
       "</div>"
      ],
      "text/plain": [
       "                        _id         username\n",
       "0  5f0ca75139a4fd996c03d531     Barack Obama\n",
       "1  5f0ca75139a4fd996c03d532        Voldemort\n",
       "2  5f0ca75139a4fd996c03d533        Chewbacca\n",
       "3  5f0ca75139a4fd996c03d534    Angela Merkel\n",
       "4  5f0ca75139a4fd996c03d535  Margherita Hack"
      ]
     },
     "execution_count": 7,
     "metadata": {},
     "output_type": "execute_result"
    }
   ],
   "source": [
    "df = pd.DataFrame(cur)\n",
    "df.head()"
   ]
  },
  {
   "cell_type": "markdown",
   "metadata": {},
   "source": [
    "# Create Chat"
   ]
  },
  {
   "cell_type": "code",
   "execution_count": 8,
   "metadata": {},
   "outputs": [],
   "source": [
    "df[\"_id\"]= df[\"_id\"].astype(str) "
   ]
  },
  {
   "cell_type": "code",
   "execution_count": 9,
   "metadata": {},
   "outputs": [],
   "source": [
    "five_chats = ['How I met your mother', 'Dumbledore’s Army', \n",
    "              'Tesla SpaceX','Italian restaurants in Madrid','datamad0620']\n",
    "chats_room = dict()\n",
    "for i,chat in enumerate(five_chats):   \n",
    "    chats_room[f'{chat}']= {'user_ids': [random.choice([row for row in df['_id']]) for _ in range(5)]}"
   ]
  },
  {
   "cell_type": "code",
   "execution_count": 10,
   "metadata": {},
   "outputs": [],
   "source": [
    "for room,user_ids in chats_room.items():\n",
    "    res = requests.get(f'http://localhost:3000/chat/create/{room}?user_id={user_ids.values()}')"
   ]
  },
  {
   "cell_type": "code",
   "execution_count": 11,
   "metadata": {},
   "outputs": [
    {
     "name": "stdout",
     "output_type": "stream",
     "text": [
      "<Response [500]>\n"
     ]
    }
   ],
   "source": [
    "print(res)"
   ]
  },
  {
   "cell_type": "code",
   "execution_count": 12,
   "metadata": {},
   "outputs": [
    {
     "data": {
      "text/plain": [
       "{'message': \"Error. users_ids doesn't exist in database. It is not possible to create an empty chat\",\n",
       " 'status': 'api-error'}"
      ]
     },
     "execution_count": 12,
     "metadata": {},
     "output_type": "execute_result"
    }
   ],
   "source": [
    "res.json()"
   ]
  },
  {
   "cell_type": "code",
   "execution_count": 13,
   "metadata": {},
   "outputs": [],
   "source": [
    "cur = db.chatItem.find({\"chat_name\":{\"$ne\": None}})"
   ]
  },
  {
   "cell_type": "code",
   "execution_count": 14,
   "metadata": {},
   "outputs": [
    {
     "data": {
      "text/html": [
       "<div>\n",
       "<style scoped>\n",
       "    .dataframe tbody tr th:only-of-type {\n",
       "        vertical-align: middle;\n",
       "    }\n",
       "\n",
       "    .dataframe tbody tr th {\n",
       "        vertical-align: top;\n",
       "    }\n",
       "\n",
       "    .dataframe thead th {\n",
       "        text-align: right;\n",
       "    }\n",
       "</style>\n",
       "<table border=\"1\" class=\"dataframe\">\n",
       "  <thead>\n",
       "    <tr style=\"text-align: right;\">\n",
       "      <th></th>\n",
       "      <th>_id</th>\n",
       "      <th>chat_name</th>\n",
       "      <th>users_ids</th>\n",
       "      <th>messages</th>\n",
       "    </tr>\n",
       "  </thead>\n",
       "  <tbody>\n",
       "    <tr>\n",
       "      <th>0</th>\n",
       "      <td>5f0ca76c39a4fd996c03d552</td>\n",
       "      <td>How I met your mother</td>\n",
       "      <td>[5f0ca75239a4fd996c03d551, 5f0ca75239a4fd996c0...</td>\n",
       "      <td>[{'username': 'Jennifer Aniston', 'user_id': '...</td>\n",
       "    </tr>\n",
       "    <tr>\n",
       "      <th>1</th>\n",
       "      <td>5f0ca76d39a4fd996c03d553</td>\n",
       "      <td>Dumbledore’s Army</td>\n",
       "      <td>[5f0ca75139a4fd996c03d532, 5f0ca75239a4fd996c0...</td>\n",
       "      <td>[{'username': 'Voldemort', 'user_id': '5f0ca75...</td>\n",
       "    </tr>\n",
       "    <tr>\n",
       "      <th>2</th>\n",
       "      <td>5f0ca76d39a4fd996c03d554</td>\n",
       "      <td>Tesla SpaceX</td>\n",
       "      <td>[5f0ca75239a4fd996c03d542, 5f0ca75139a4fd996c0...</td>\n",
       "      <td>[{'username': 'Valentino Rossi', 'user_id': '5...</td>\n",
       "    </tr>\n",
       "    <tr>\n",
       "      <th>3</th>\n",
       "      <td>5f0ca76d39a4fd996c03d555</td>\n",
       "      <td>Italian restaurants in Madrid</td>\n",
       "      <td>[5f0ca75139a4fd996c03d534, 5f0ca75139a4fd996c0...</td>\n",
       "      <td>[{'username': 'Angela Merkel', 'user_id': '5f0...</td>\n",
       "    </tr>\n",
       "    <tr>\n",
       "      <th>4</th>\n",
       "      <td>5f0ca76d39a4fd996c03d556</td>\n",
       "      <td>datamad0620</td>\n",
       "      <td>[5f0ca75239a4fd996c03d542, 5f0ca75239a4fd996c0...</td>\n",
       "      <td>[{'username': 'must4in3', 'user_id': '5f0ca751...</td>\n",
       "    </tr>\n",
       "  </tbody>\n",
       "</table>\n",
       "</div>"
      ],
      "text/plain": [
       "                        _id                      chat_name  \\\n",
       "0  5f0ca76c39a4fd996c03d552          How I met your mother   \n",
       "1  5f0ca76d39a4fd996c03d553              Dumbledore’s Army   \n",
       "2  5f0ca76d39a4fd996c03d554                   Tesla SpaceX   \n",
       "3  5f0ca76d39a4fd996c03d555  Italian restaurants in Madrid   \n",
       "4  5f0ca76d39a4fd996c03d556                    datamad0620   \n",
       "\n",
       "                                           users_ids  \\\n",
       "0  [5f0ca75239a4fd996c03d551, 5f0ca75239a4fd996c0...   \n",
       "1  [5f0ca75139a4fd996c03d532, 5f0ca75239a4fd996c0...   \n",
       "2  [5f0ca75239a4fd996c03d542, 5f0ca75139a4fd996c0...   \n",
       "3  [5f0ca75139a4fd996c03d534, 5f0ca75139a4fd996c0...   \n",
       "4  [5f0ca75239a4fd996c03d542, 5f0ca75239a4fd996c0...   \n",
       "\n",
       "                                            messages  \n",
       "0  [{'username': 'Jennifer Aniston', 'user_id': '...  \n",
       "1  [{'username': 'Voldemort', 'user_id': '5f0ca75...  \n",
       "2  [{'username': 'Valentino Rossi', 'user_id': '5...  \n",
       "3  [{'username': 'Angela Merkel', 'user_id': '5f0...  \n",
       "4  [{'username': 'must4in3', 'user_id': '5f0ca751...  "
      ]
     },
     "execution_count": 14,
     "metadata": {},
     "output_type": "execute_result"
    }
   ],
   "source": [
    "df_chat = pd.DataFrame(cur)\n",
    "df_chat.head()"
   ]
  },
  {
   "cell_type": "markdown",
   "metadata": {},
   "source": [
    "# Add user in a Chat"
   ]
  },
  {
   "cell_type": "code",
   "execution_count": 15,
   "metadata": {},
   "outputs": [],
   "source": [
    "df_chat[\"_id\"]= df_chat[\"_id\"].astype(str) "
   ]
  },
  {
   "cell_type": "code",
   "execution_count": 16,
   "metadata": {},
   "outputs": [],
   "source": [
    "user_random = random.choice([row for row in df['_id']])\n",
    "conversation_random = random.choice([row for row in df_chat['_id']])"
   ]
  },
  {
   "cell_type": "code",
   "execution_count": 17,
   "metadata": {},
   "outputs": [],
   "source": [
    "res = requests.get(f'http://localhost:3000/chat/{conversation_random}/adduser?user_id={user_random}')"
   ]
  },
  {
   "cell_type": "code",
   "execution_count": 18,
   "metadata": {},
   "outputs": [
    {
     "name": "stdout",
     "output_type": "stream",
     "text": [
      "<Response [500]>\n"
     ]
    }
   ],
   "source": [
    "print(res)"
   ]
  },
  {
   "cell_type": "code",
   "execution_count": 19,
   "metadata": {},
   "outputs": [
    {
     "data": {
      "text/plain": [
       "{'message': \"Error. chat doesn't exist\", 'status': 'api-error'}"
      ]
     },
     "execution_count": 19,
     "metadata": {},
     "output_type": "execute_result"
    }
   ],
   "source": [
    "res.json()"
   ]
  },
  {
   "cell_type": "markdown",
   "metadata": {},
   "source": [
    "# Add message in chat"
   ]
  },
  {
   "cell_type": "markdown",
   "metadata": {},
   "source": [
    "kaggle dataset quote\n",
    "https://www.kaggle.com/coolcoder22/quotes-dataset"
   ]
  },
  {
   "cell_type": "code",
   "execution_count": 20,
   "metadata": {},
   "outputs": [],
   "source": [
    "quote = pd.read_csv('inputs/quote.csv', encoding = 'latin-1')"
   ]
  },
  {
   "cell_type": "code",
   "execution_count": 21,
   "metadata": {},
   "outputs": [
    {
     "data": {
      "text/html": [
       "<div>\n",
       "<style scoped>\n",
       "    .dataframe tbody tr th:only-of-type {\n",
       "        vertical-align: middle;\n",
       "    }\n",
       "\n",
       "    .dataframe tbody tr th {\n",
       "        vertical-align: top;\n",
       "    }\n",
       "\n",
       "    .dataframe thead th {\n",
       "        text-align: right;\n",
       "    }\n",
       "</style>\n",
       "<table border=\"1\" class=\"dataframe\">\n",
       "  <thead>\n",
       "    <tr style=\"text-align: right;\">\n",
       "      <th></th>\n",
       "      <th>Auther</th>\n",
       "      <th>quote</th>\n",
       "    </tr>\n",
       "  </thead>\n",
       "  <tbody>\n",
       "    <tr>\n",
       "      <th>0</th>\n",
       "      <td>A. A. Milne</td>\n",
       "      <td>If you live to be a hundred, I want to live to...</td>\n",
       "    </tr>\n",
       "    <tr>\n",
       "      <th>1</th>\n",
       "      <td>A. A. Milne</td>\n",
       "      <td>Promise me you'll always remember: You're brav...</td>\n",
       "    </tr>\n",
       "    <tr>\n",
       "      <th>2</th>\n",
       "      <td>A. A. Milne</td>\n",
       "      <td>Did you ever stop to think, and forget to star...</td>\n",
       "    </tr>\n",
       "    <tr>\n",
       "      <th>3</th>\n",
       "      <td>A. A. Milne</td>\n",
       "      <td>Organizing is what you do before you do someth...</td>\n",
       "    </tr>\n",
       "    <tr>\n",
       "      <th>4</th>\n",
       "      <td>A. A. Milne</td>\n",
       "      <td>Weeds are flowers too, once you get to know them.</td>\n",
       "    </tr>\n",
       "    <tr>\n",
       "      <th>...</th>\n",
       "      <td>...</td>\n",
       "      <td>...</td>\n",
       "    </tr>\n",
       "    <tr>\n",
       "      <th>36160</th>\n",
       "      <td>Zsa Zsa Gabor</td>\n",
       "      <td>I know nothing about sex, because I was always...</td>\n",
       "    </tr>\n",
       "    <tr>\n",
       "      <th>36161</th>\n",
       "      <td>Zsa Zsa Gabor</td>\n",
       "      <td>Conrad Hilton was very generous to me in the d...</td>\n",
       "    </tr>\n",
       "    <tr>\n",
       "      <th>36162</th>\n",
       "      <td>Zsa Zsa Gabor</td>\n",
       "      <td>The women's movement hasn't changed my sex lif...</td>\n",
       "    </tr>\n",
       "    <tr>\n",
       "      <th>36163</th>\n",
       "      <td>Zsa Zsa Gabor</td>\n",
       "      <td>I always liked parties. You meet people; you c...</td>\n",
       "    </tr>\n",
       "    <tr>\n",
       "      <th>36164</th>\n",
       "      <td>Zsa Zsa Gabor</td>\n",
       "      <td>I love to put on diamonds and beautiful evenin...</td>\n",
       "    </tr>\n",
       "  </tbody>\n",
       "</table>\n",
       "<p>36165 rows × 2 columns</p>\n",
       "</div>"
      ],
      "text/plain": [
       "              Auther                                              quote\n",
       "0        A. A. Milne  If you live to be a hundred, I want to live to...\n",
       "1        A. A. Milne  Promise me you'll always remember: You're brav...\n",
       "2        A. A. Milne  Did you ever stop to think, and forget to star...\n",
       "3        A. A. Milne  Organizing is what you do before you do someth...\n",
       "4        A. A. Milne  Weeds are flowers too, once you get to know them.\n",
       "...              ...                                                ...\n",
       "36160  Zsa Zsa Gabor  I know nothing about sex, because I was always...\n",
       "36161  Zsa Zsa Gabor  Conrad Hilton was very generous to me in the d...\n",
       "36162  Zsa Zsa Gabor  The women's movement hasn't changed my sex lif...\n",
       "36163  Zsa Zsa Gabor  I always liked parties. You meet people; you c...\n",
       "36164  Zsa Zsa Gabor  I love to put on diamonds and beautiful evenin...\n",
       "\n",
       "[36165 rows x 2 columns]"
      ]
     },
     "execution_count": 21,
     "metadata": {},
     "output_type": "execute_result"
    }
   ],
   "source": [
    "quote"
   ]
  },
  {
   "cell_type": "code",
   "execution_count": 22,
   "metadata": {},
   "outputs": [],
   "source": [
    "conversations = []\n",
    "for _ in range(100):\n",
    "    conversations.append({random.choice([row for row in df['_id']]): random.choice([row for row in quote['quote']])})"
   ]
  },
  {
   "cell_type": "code",
   "execution_count": 23,
   "metadata": {},
   "outputs": [],
   "source": [
    "conversation_random = random.choice([row for row in df_chat['_id']])"
   ]
  },
  {
   "cell_type": "code",
   "execution_count": 24,
   "metadata": {},
   "outputs": [],
   "source": [
    "for dic in conversations:\n",
    "    for key,values in dic.items():\n",
    "        res = requests.get(f'http://localhost:3000/chat/{conversation_random}/addmessage?user_id={key}&text={values}')"
   ]
  },
  {
   "cell_type": "code",
   "execution_count": 25,
   "metadata": {},
   "outputs": [
    {
     "name": "stdout",
     "output_type": "stream",
     "text": [
      "<Response [500]>\n"
     ]
    }
   ],
   "source": [
    "print(res)"
   ]
  },
  {
   "cell_type": "code",
   "execution_count": 26,
   "metadata": {},
   "outputs": [
    {
     "data": {
      "text/plain": [
       "{'message': \"Error. chat doesn't exist\", 'status': 'api-error'}"
      ]
     },
     "execution_count": 26,
     "metadata": {},
     "output_type": "execute_result"
    }
   ],
   "source": [
    "res.json()"
   ]
  },
  {
   "cell_type": "markdown",
   "metadata": {},
   "source": [
    "# Get messages list from a chat"
   ]
  },
  {
   "cell_type": "code",
   "execution_count": 27,
   "metadata": {},
   "outputs": [],
   "source": [
    "conversation_random = random.choice([row for row in df_chat['_id']])"
   ]
  },
  {
   "cell_type": "code",
   "execution_count": 28,
   "metadata": {},
   "outputs": [],
   "source": [
    "res = requests.get(f'http://localhost:3000/chat/{conversation_random}/list')"
   ]
  },
  {
   "cell_type": "code",
   "execution_count": 29,
   "metadata": {},
   "outputs": [
    {
     "name": "stdout",
     "output_type": "stream",
     "text": [
      "<Response [500]>\n"
     ]
    }
   ],
   "source": [
    "print(res)"
   ]
  },
  {
   "cell_type": "code",
   "execution_count": 30,
   "metadata": {},
   "outputs": [
    {
     "data": {
      "text/plain": [
       "{'message': \"Error. chat doesn't exist\", 'status': 'api-error'}"
      ]
     },
     "execution_count": 30,
     "metadata": {},
     "output_type": "execute_result"
    }
   ],
   "source": [
    "res.json()"
   ]
  },
  {
   "cell_type": "markdown",
   "metadata": {},
   "source": [
    "# Get sentiment analysis"
   ]
  },
  {
   "cell_type": "markdown",
   "metadata": {},
   "source": [
    "NLP & Text Sentiment Analysis:\n",
    "​\n",
    "- [https://www.nltk.org/]\n",
    "- [https://towardsdatascience.com/basic-binary-sentiment-analysis-using-nltk-c94ba17ae386]\n",
    "- [https://www.digitalocean.com/community/tutorials/how-to-perform-sentiment-analysis-in-python-3-using-the-natural-language-toolkit-nltk]"
   ]
  },
  {
   "cell_type": "code",
   "execution_count": 31,
   "metadata": {},
   "outputs": [],
   "source": [
    "conversation_random = random.choice([row for row in df_chat['_id']])"
   ]
  },
  {
   "cell_type": "code",
   "execution_count": 32,
   "metadata": {},
   "outputs": [],
   "source": [
    "res = requests.get(f'http://localhost:3000/chat/{conversation_random}/sentiment')"
   ]
  },
  {
   "cell_type": "code",
   "execution_count": 33,
   "metadata": {},
   "outputs": [
    {
     "data": {
      "text/plain": [
       "{'message': \"Error. chat doesn't exist\", 'status': 'api-error'}"
      ]
     },
     "execution_count": 33,
     "metadata": {},
     "output_type": "execute_result"
    }
   ],
   "source": [
    "res.json()"
   ]
  },
  {
   "cell_type": "markdown",
   "metadata": {},
   "source": [
    "# Get reccomender analysis"
   ]
  },
  {
   "cell_type": "code",
   "execution_count": 34,
   "metadata": {},
   "outputs": [],
   "source": [
    "user_random = random.choice([row for row in df['_id']])"
   ]
  },
  {
   "cell_type": "code",
   "execution_count": 35,
   "metadata": {},
   "outputs": [],
   "source": [
    "res = requests.get(f'http://localhost:3000/user/{user_random}/recommend')"
   ]
  },
  {
   "cell_type": "code",
   "execution_count": 36,
   "metadata": {},
   "outputs": [
    {
     "name": "stdout",
     "output_type": "stream",
     "text": [
      "<Response [500]>\n"
     ]
    }
   ],
   "source": [
    "print(res)"
   ]
  },
  {
   "cell_type": "code",
   "execution_count": 37,
   "metadata": {},
   "outputs": [
    {
     "data": {
      "text/plain": [
       "{'message': 'The user is not present in any chat', 'status': 'api-error'}"
      ]
     },
     "execution_count": 37,
     "metadata": {},
     "output_type": "execute_result"
    }
   ],
   "source": [
    "res.json()"
   ]
  },
  {
   "cell_type": "code",
   "execution_count": null,
   "metadata": {},
   "outputs": [],
   "source": []
  }
 ],
 "metadata": {
  "kernelspec": {
   "display_name": "Python 3",
   "language": "python",
   "name": "python3"
  },
  "language_info": {
   "codemirror_mode": {
    "name": "ipython",
    "version": 3
   },
   "file_extension": ".py",
   "mimetype": "text/x-python",
   "name": "python",
   "nbconvert_exporter": "python",
   "pygments_lexer": "ipython3",
   "version": "3.7.6"
  }
 },
 "nbformat": 4,
 "nbformat_minor": 4
}
