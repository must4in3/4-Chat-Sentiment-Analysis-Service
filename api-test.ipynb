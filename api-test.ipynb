{
 "cells": [
  {
   "cell_type": "code",
   "execution_count": 1,
   "metadata": {},
   "outputs": [],
   "source": [
    "import requests\n",
    "from pymongo import MongoClient\n",
    "import pandas as pd\n",
    "import random"
   ]
  },
  {
   "cell_type": "markdown",
   "metadata": {},
   "source": [
    "# Create user"
   ]
  },
  {
   "cell_type": "code",
   "execution_count": 2,
   "metadata": {},
   "outputs": [],
   "source": [
    "personajes = ['Barack Obama', 'Voldemort', 'Chewbacca', 'Angela Merkel','Margherita Hack','Valentino Rossi', \n",
    "              'must4in3', 'Aretha Franklin', 'Marge Simpson', 'Darth Vader', 'Yoda', 'R2-D2', 'John Belushi',\n",
    "              'Maccio Capatonda', ' Elon Musk', 'Che Guevara', 'Gollum', 'Samwise Gamgee', 'Jon Snow','Arya Stark',\n",
    "              'Heidi', 'Hermione', 'Pikachu', 'Topolino', 'Berlusconi', 'Greta Thunberg','Hulk', 'Dilan Dog', \n",
    "              'Stephen Hopkins','Oprah Winfre', 'Frida Kahlo','Tyrion Lannister', 'Jennifer Aniston']\n",
    "\n",
    "for personage in personajes:\n",
    "    res = requests.get(f'http://localhost:3000/user/create/{personage}')"
   ]
  },
  {
   "cell_type": "code",
   "execution_count": 3,
   "metadata": {},
   "outputs": [
    {
     "name": "stdout",
     "output_type": "stream",
     "text": [
      "<Response [200]>\n"
     ]
    }
   ],
   "source": [
    "print(res)"
   ]
  },
  {
   "cell_type": "code",
   "execution_count": 4,
   "metadata": {},
   "outputs": [
    {
     "data": {
      "text/plain": [
       "{'data': {'_id': {'$oid': '5f0e0cadbd0cd626e25ed252'},\n",
       "  'username': 'Jennifer Aniston'},\n",
       " 'status': 'ok'}"
      ]
     },
     "execution_count": 4,
     "metadata": {},
     "output_type": "execute_result"
    }
   ],
   "source": [
    "res.json()"
   ]
  },
  {
   "cell_type": "code",
   "execution_count": 5,
   "metadata": {},
   "outputs": [],
   "source": [
    "# check users in Mongo\n",
    "dbName = \"api_chat_sentiment_analysis\"\n",
    "mongodbURL = f\"mongodb://localhost/{dbName}\"\n",
    "client = MongoClient(mongodbURL, connectTimeoutMS=2000, serverSelectionTimeoutMS=2000)\n",
    "db = client.get_database()"
   ]
  },
  {
   "cell_type": "code",
   "execution_count": 6,
   "metadata": {},
   "outputs": [],
   "source": [
    "cur = db.user.find({\"username\":{\"$ne\": None}})"
   ]
  },
  {
   "cell_type": "code",
   "execution_count": 7,
   "metadata": {},
   "outputs": [
    {
     "data": {
      "text/html": [
       "<div>\n",
       "<style scoped>\n",
       "    .dataframe tbody tr th:only-of-type {\n",
       "        vertical-align: middle;\n",
       "    }\n",
       "\n",
       "    .dataframe tbody tr th {\n",
       "        vertical-align: top;\n",
       "    }\n",
       "\n",
       "    .dataframe thead th {\n",
       "        text-align: right;\n",
       "    }\n",
       "</style>\n",
       "<table border=\"1\" class=\"dataframe\">\n",
       "  <thead>\n",
       "    <tr style=\"text-align: right;\">\n",
       "      <th></th>\n",
       "      <th>_id</th>\n",
       "      <th>username</th>\n",
       "    </tr>\n",
       "  </thead>\n",
       "  <tbody>\n",
       "    <tr>\n",
       "      <th>0</th>\n",
       "      <td>5f0e0cadbd0cd626e25ed232</td>\n",
       "      <td>Barack Obama</td>\n",
       "    </tr>\n",
       "    <tr>\n",
       "      <th>1</th>\n",
       "      <td>5f0e0cadbd0cd626e25ed233</td>\n",
       "      <td>Voldemort</td>\n",
       "    </tr>\n",
       "    <tr>\n",
       "      <th>2</th>\n",
       "      <td>5f0e0cadbd0cd626e25ed234</td>\n",
       "      <td>Chewbacca</td>\n",
       "    </tr>\n",
       "    <tr>\n",
       "      <th>3</th>\n",
       "      <td>5f0e0cadbd0cd626e25ed235</td>\n",
       "      <td>Angela Merkel</td>\n",
       "    </tr>\n",
       "    <tr>\n",
       "      <th>4</th>\n",
       "      <td>5f0e0cadbd0cd626e25ed236</td>\n",
       "      <td>Margherita Hack</td>\n",
       "    </tr>\n",
       "  </tbody>\n",
       "</table>\n",
       "</div>"
      ],
      "text/plain": [
       "                        _id         username\n",
       "0  5f0e0cadbd0cd626e25ed232     Barack Obama\n",
       "1  5f0e0cadbd0cd626e25ed233        Voldemort\n",
       "2  5f0e0cadbd0cd626e25ed234        Chewbacca\n",
       "3  5f0e0cadbd0cd626e25ed235    Angela Merkel\n",
       "4  5f0e0cadbd0cd626e25ed236  Margherita Hack"
      ]
     },
     "execution_count": 7,
     "metadata": {},
     "output_type": "execute_result"
    }
   ],
   "source": [
    "df = pd.DataFrame(cur)\n",
    "df.head()"
   ]
  },
  {
   "cell_type": "markdown",
   "metadata": {},
   "source": [
    "# Create Chat"
   ]
  },
  {
   "cell_type": "code",
   "execution_count": 8,
   "metadata": {},
   "outputs": [],
   "source": [
    "df[\"_id\"]= df[\"_id\"].astype(str) "
   ]
  },
  {
   "cell_type": "code",
   "execution_count": 9,
   "metadata": {},
   "outputs": [],
   "source": [
    "five_chats = ['How I met your mother', 'Dumbledore’s Army', \n",
    "              'Tesla SpaceX','Italian restaurants in Madrid','datamad0620']\n",
    "chats_room = dict()\n",
    "for i,chat in enumerate(five_chats):   \n",
    "    chats_room[f'{chat}']= {'user_ids': [random.choice([row for row in df['_id']]) for _ in range(5)]}"
   ]
  },
  {
   "cell_type": "code",
   "execution_count": 10,
   "metadata": {},
   "outputs": [],
   "source": [
    "for room,user_ids in chats_room.items():\n",
    "    res = requests.get(f'http://localhost:3000/chat/create/{room}?user_id={user_ids.values()}')"
   ]
  },
  {
   "cell_type": "code",
   "execution_count": 11,
   "metadata": {},
   "outputs": [
    {
     "name": "stdout",
     "output_type": "stream",
     "text": [
      "<Response [200]>\n"
     ]
    }
   ],
   "source": [
    "print(res)"
   ]
  },
  {
   "cell_type": "code",
   "execution_count": 12,
   "metadata": {},
   "outputs": [
    {
     "data": {
      "text/plain": [
       "{'_id': {'$oid': '5f0e0cb0bd0cd626e25ed257'},\n",
       " 'chat_name': 'datamad0620',\n",
       " 'users_ids': ['5f0e0cadbd0cd626e25ed239',\n",
       "  '5f0e0cadbd0cd626e25ed24e',\n",
       "  '5f0e0cadbd0cd626e25ed24d',\n",
       "  '5f0e0cadbd0cd626e25ed252',\n",
       "  '5f0e0cadbd0cd626e25ed233']}"
      ]
     },
     "execution_count": 12,
     "metadata": {},
     "output_type": "execute_result"
    }
   ],
   "source": [
    "res.json()"
   ]
  },
  {
   "cell_type": "code",
   "execution_count": 13,
   "metadata": {},
   "outputs": [],
   "source": [
    "cur = db.chatItem.find({\"chat_name\":{\"$ne\": None}})"
   ]
  },
  {
   "cell_type": "code",
   "execution_count": 14,
   "metadata": {},
   "outputs": [
    {
     "data": {
      "text/html": [
       "<div>\n",
       "<style scoped>\n",
       "    .dataframe tbody tr th:only-of-type {\n",
       "        vertical-align: middle;\n",
       "    }\n",
       "\n",
       "    .dataframe tbody tr th {\n",
       "        vertical-align: top;\n",
       "    }\n",
       "\n",
       "    .dataframe thead th {\n",
       "        text-align: right;\n",
       "    }\n",
       "</style>\n",
       "<table border=\"1\" class=\"dataframe\">\n",
       "  <thead>\n",
       "    <tr style=\"text-align: right;\">\n",
       "      <th></th>\n",
       "      <th>_id</th>\n",
       "      <th>chat_name</th>\n",
       "      <th>users_ids</th>\n",
       "    </tr>\n",
       "  </thead>\n",
       "  <tbody>\n",
       "    <tr>\n",
       "      <th>0</th>\n",
       "      <td>5f0e0cb0bd0cd626e25ed253</td>\n",
       "      <td>How I met your mother</td>\n",
       "      <td>[5f0e0cadbd0cd626e25ed24e, 5f0e0cadbd0cd626e25...</td>\n",
       "    </tr>\n",
       "    <tr>\n",
       "      <th>1</th>\n",
       "      <td>5f0e0cb0bd0cd626e25ed254</td>\n",
       "      <td>Dumbledore’s Army</td>\n",
       "      <td>[5f0e0cadbd0cd626e25ed235, 5f0e0cadbd0cd626e25...</td>\n",
       "    </tr>\n",
       "    <tr>\n",
       "      <th>2</th>\n",
       "      <td>5f0e0cb0bd0cd626e25ed255</td>\n",
       "      <td>Tesla SpaceX</td>\n",
       "      <td>[5f0e0cadbd0cd626e25ed24f, 5f0e0cadbd0cd626e25...</td>\n",
       "    </tr>\n",
       "    <tr>\n",
       "      <th>3</th>\n",
       "      <td>5f0e0cb0bd0cd626e25ed256</td>\n",
       "      <td>Italian restaurants in Madrid</td>\n",
       "      <td>[5f0e0cadbd0cd626e25ed234, 5f0e0cadbd0cd626e25...</td>\n",
       "    </tr>\n",
       "    <tr>\n",
       "      <th>4</th>\n",
       "      <td>5f0e0cb0bd0cd626e25ed257</td>\n",
       "      <td>datamad0620</td>\n",
       "      <td>[5f0e0cadbd0cd626e25ed239, 5f0e0cadbd0cd626e25...</td>\n",
       "    </tr>\n",
       "  </tbody>\n",
       "</table>\n",
       "</div>"
      ],
      "text/plain": [
       "                        _id                      chat_name  \\\n",
       "0  5f0e0cb0bd0cd626e25ed253          How I met your mother   \n",
       "1  5f0e0cb0bd0cd626e25ed254              Dumbledore’s Army   \n",
       "2  5f0e0cb0bd0cd626e25ed255                   Tesla SpaceX   \n",
       "3  5f0e0cb0bd0cd626e25ed256  Italian restaurants in Madrid   \n",
       "4  5f0e0cb0bd0cd626e25ed257                    datamad0620   \n",
       "\n",
       "                                           users_ids  \n",
       "0  [5f0e0cadbd0cd626e25ed24e, 5f0e0cadbd0cd626e25...  \n",
       "1  [5f0e0cadbd0cd626e25ed235, 5f0e0cadbd0cd626e25...  \n",
       "2  [5f0e0cadbd0cd626e25ed24f, 5f0e0cadbd0cd626e25...  \n",
       "3  [5f0e0cadbd0cd626e25ed234, 5f0e0cadbd0cd626e25...  \n",
       "4  [5f0e0cadbd0cd626e25ed239, 5f0e0cadbd0cd626e25...  "
      ]
     },
     "execution_count": 14,
     "metadata": {},
     "output_type": "execute_result"
    }
   ],
   "source": [
    "df_chat = pd.DataFrame(cur)\n",
    "df_chat.head()"
   ]
  },
  {
   "cell_type": "markdown",
   "metadata": {},
   "source": [
    "# Add user in a Chat"
   ]
  },
  {
   "cell_type": "code",
   "execution_count": 45,
   "metadata": {},
   "outputs": [],
   "source": [
    "df_chat[\"_id\"]= df_chat[\"_id\"].astype(str) "
   ]
  },
  {
   "cell_type": "code",
   "execution_count": 46,
   "metadata": {},
   "outputs": [],
   "source": [
    "user_random = random.choice([row for row in df['_id']])\n",
    "conversation_random = random.choice([row for row in df_chat['_id']])"
   ]
  },
  {
   "cell_type": "code",
   "execution_count": 47,
   "metadata": {},
   "outputs": [],
   "source": [
    "res = requests.get(f'http://localhost:3000/chat/{conversation_random}/adduser?user_id={user_random}')"
   ]
  },
  {
   "cell_type": "code",
   "execution_count": 48,
   "metadata": {},
   "outputs": [
    {
     "name": "stdout",
     "output_type": "stream",
     "text": [
      "<Response [200]>\n"
     ]
    }
   ],
   "source": [
    "print(res)"
   ]
  },
  {
   "cell_type": "code",
   "execution_count": 49,
   "metadata": {},
   "outputs": [
    {
     "data": {
      "text/plain": [
       "{'chat_name': 'datamad0620',\n",
       " 'users_ids': ['5f0e0cadbd0cd626e25ed239',\n",
       "  '5f0e0cadbd0cd626e25ed24e',\n",
       "  '5f0e0cadbd0cd626e25ed24d',\n",
       "  '5f0e0cadbd0cd626e25ed252',\n",
       "  '5f0e0cadbd0cd626e25ed233',\n",
       "  '5f0e0cadbd0cd626e25ed243']}"
      ]
     },
     "execution_count": 49,
     "metadata": {},
     "output_type": "execute_result"
    }
   ],
   "source": [
    "res.json()"
   ]
  },
  {
   "cell_type": "markdown",
   "metadata": {},
   "source": [
    "# Add message in chat"
   ]
  },
  {
   "cell_type": "markdown",
   "metadata": {},
   "source": [
    "kaggle dataset quote\n",
    "https://www.kaggle.com/coolcoder22/quotes-dataset"
   ]
  },
  {
   "cell_type": "code",
   "execution_count": 50,
   "metadata": {},
   "outputs": [],
   "source": [
    "quote = pd.read_csv('inputs/quote.csv', encoding = 'latin-1')"
   ]
  },
  {
   "cell_type": "code",
   "execution_count": 51,
   "metadata": {},
   "outputs": [
    {
     "data": {
      "text/html": [
       "<div>\n",
       "<style scoped>\n",
       "    .dataframe tbody tr th:only-of-type {\n",
       "        vertical-align: middle;\n",
       "    }\n",
       "\n",
       "    .dataframe tbody tr th {\n",
       "        vertical-align: top;\n",
       "    }\n",
       "\n",
       "    .dataframe thead th {\n",
       "        text-align: right;\n",
       "    }\n",
       "</style>\n",
       "<table border=\"1\" class=\"dataframe\">\n",
       "  <thead>\n",
       "    <tr style=\"text-align: right;\">\n",
       "      <th></th>\n",
       "      <th>Auther</th>\n",
       "      <th>quote</th>\n",
       "    </tr>\n",
       "  </thead>\n",
       "  <tbody>\n",
       "    <tr>\n",
       "      <th>0</th>\n",
       "      <td>A. A. Milne</td>\n",
       "      <td>If you live to be a hundred, I want to live to...</td>\n",
       "    </tr>\n",
       "    <tr>\n",
       "      <th>1</th>\n",
       "      <td>A. A. Milne</td>\n",
       "      <td>Promise me you'll always remember: You're brav...</td>\n",
       "    </tr>\n",
       "    <tr>\n",
       "      <th>2</th>\n",
       "      <td>A. A. Milne</td>\n",
       "      <td>Did you ever stop to think, and forget to star...</td>\n",
       "    </tr>\n",
       "    <tr>\n",
       "      <th>3</th>\n",
       "      <td>A. A. Milne</td>\n",
       "      <td>Organizing is what you do before you do someth...</td>\n",
       "    </tr>\n",
       "    <tr>\n",
       "      <th>4</th>\n",
       "      <td>A. A. Milne</td>\n",
       "      <td>Weeds are flowers too, once you get to know them.</td>\n",
       "    </tr>\n",
       "    <tr>\n",
       "      <th>...</th>\n",
       "      <td>...</td>\n",
       "      <td>...</td>\n",
       "    </tr>\n",
       "    <tr>\n",
       "      <th>36160</th>\n",
       "      <td>Zsa Zsa Gabor</td>\n",
       "      <td>I know nothing about sex, because I was always...</td>\n",
       "    </tr>\n",
       "    <tr>\n",
       "      <th>36161</th>\n",
       "      <td>Zsa Zsa Gabor</td>\n",
       "      <td>Conrad Hilton was very generous to me in the d...</td>\n",
       "    </tr>\n",
       "    <tr>\n",
       "      <th>36162</th>\n",
       "      <td>Zsa Zsa Gabor</td>\n",
       "      <td>The women's movement hasn't changed my sex lif...</td>\n",
       "    </tr>\n",
       "    <tr>\n",
       "      <th>36163</th>\n",
       "      <td>Zsa Zsa Gabor</td>\n",
       "      <td>I always liked parties. You meet people; you c...</td>\n",
       "    </tr>\n",
       "    <tr>\n",
       "      <th>36164</th>\n",
       "      <td>Zsa Zsa Gabor</td>\n",
       "      <td>I love to put on diamonds and beautiful evenin...</td>\n",
       "    </tr>\n",
       "  </tbody>\n",
       "</table>\n",
       "<p>36165 rows × 2 columns</p>\n",
       "</div>"
      ],
      "text/plain": [
       "              Auther                                              quote\n",
       "0        A. A. Milne  If you live to be a hundred, I want to live to...\n",
       "1        A. A. Milne  Promise me you'll always remember: You're brav...\n",
       "2        A. A. Milne  Did you ever stop to think, and forget to star...\n",
       "3        A. A. Milne  Organizing is what you do before you do someth...\n",
       "4        A. A. Milne  Weeds are flowers too, once you get to know them.\n",
       "...              ...                                                ...\n",
       "36160  Zsa Zsa Gabor  I know nothing about sex, because I was always...\n",
       "36161  Zsa Zsa Gabor  Conrad Hilton was very generous to me in the d...\n",
       "36162  Zsa Zsa Gabor  The women's movement hasn't changed my sex lif...\n",
       "36163  Zsa Zsa Gabor  I always liked parties. You meet people; you c...\n",
       "36164  Zsa Zsa Gabor  I love to put on diamonds and beautiful evenin...\n",
       "\n",
       "[36165 rows x 2 columns]"
      ]
     },
     "execution_count": 51,
     "metadata": {},
     "output_type": "execute_result"
    }
   ],
   "source": [
    "quote"
   ]
  },
  {
   "cell_type": "code",
   "execution_count": 107,
   "metadata": {},
   "outputs": [],
   "source": [
    "conversations = []\n",
    "for _ in range(100):\n",
    "    conversations.append({random.choice([row for row in df['_id']]): random.choice([row for row in quote['quote']])})"
   ]
  },
  {
   "cell_type": "code",
   "execution_count": 108,
   "metadata": {},
   "outputs": [],
   "source": [
    "conversation_random = random.choice([row for row in df_chat['_id']])"
   ]
  },
  {
   "cell_type": "code",
   "execution_count": 109,
   "metadata": {},
   "outputs": [],
   "source": [
    "for dic in conversations:\n",
    "    for key,values in dic.items():\n",
    "        res = requests.get(f'http://localhost:3000/chat/{conversation_random}/addmessage?user_id={key}&text={values}')"
   ]
  },
  {
   "cell_type": "code",
   "execution_count": 110,
   "metadata": {},
   "outputs": [
    {
     "name": "stdout",
     "output_type": "stream",
     "text": [
      "<Response [200]>\n"
     ]
    }
   ],
   "source": [
    "print(res)"
   ]
  },
  {
   "cell_type": "code",
   "execution_count": 111,
   "metadata": {},
   "outputs": [
    {
     "data": {
      "text/plain": [
       "{'conversation_id': '5f0e0cb0bd0cd626e25ed256',\n",
       " 'messages': 'We never fail when we try to do our duty, we always fail when we neglect to do it.'}"
      ]
     },
     "execution_count": 111,
     "metadata": {},
     "output_type": "execute_result"
    }
   ],
   "source": [
    "res.json()"
   ]
  },
  {
   "cell_type": "markdown",
   "metadata": {},
   "source": [
    "# Get messages list from a chat"
   ]
  },
  {
   "cell_type": "code",
   "execution_count": 112,
   "metadata": {},
   "outputs": [],
   "source": [
    "conversation_random = random.choice([row for row in df_chat['_id']])"
   ]
  },
  {
   "cell_type": "code",
   "execution_count": 113,
   "metadata": {},
   "outputs": [],
   "source": [
    "res = requests.get(f'http://localhost:3000/chat/{conversation_random}/list')"
   ]
  },
  {
   "cell_type": "code",
   "execution_count": 114,
   "metadata": {},
   "outputs": [
    {
     "name": "stdout",
     "output_type": "stream",
     "text": [
      "<Response [200]>\n"
     ]
    }
   ],
   "source": [
    "print(res)"
   ]
  },
  {
   "cell_type": "code",
   "execution_count": 115,
   "metadata": {},
   "outputs": [
    {
     "data": {
      "text/plain": [
       "{'chat_name': 'datamad0620',\n",
       " 'conversation_id': {'$oid': '5f0e0cb0bd0cd626e25ed257'},\n",
       " 'messages': [{'message': 'The creative process is a process of surrender, not control.',\n",
       "   'user_id': '5f0e0cadbd0cd626e25ed24d',\n",
       "   'username': 'Dilan Dog'},\n",
       "  {'message': 'Be careful to leave your sons well instructed rather than rich, for the hopes of the instructed are better than the wealth of the ignorant.',\n",
       "   'user_id': '5f0e0cadbd0cd626e25ed233',\n",
       "   'username': 'Voldemort'},\n",
       "  {'message': \"It's great that ballroom dancing is being recognised. For many years ballroom dancers were misunderstood and other dance forms didn't want anything to do with us.\",\n",
       "   'user_id': '5f0e0cadbd0cd626e25ed24d',\n",
       "   'username': 'Dilan Dog'},\n",
       "  {'message': 'The meeting of two personalities is like the contact of two chemical substances: if there is any reaction, both are transformed.',\n",
       "   'user_id': '5f0e0cadbd0cd626e25ed239',\n",
       "   'username': 'Aretha Franklin'},\n",
       "  {'message': 'When you recognize the festive and the still moments as moments of prayer, then you gradually realize that to pray is to live.',\n",
       "   'user_id': '5f0e0cadbd0cd626e25ed252',\n",
       "   'username': 'Jennifer Aniston'},\n",
       "  {'message': 'My family had all kinds of complications in relationships. I would like to meet the person who did not. Since when is being absolutely perfect what being a human is? What do we gain from that?',\n",
       "   'user_id': '5f0e0cadbd0cd626e25ed243',\n",
       "   'username': 'Samwise Gamgee'},\n",
       "  {'message': \"We wouldn't think of going to our doctor and saying 'Treat me the way doctors treated people in the 19th Century,' and yet that's what we're demanding in food production.\",\n",
       "   'user_id': '5f0e0cadbd0cd626e25ed243',\n",
       "   'username': 'Samwise Gamgee'},\n",
       "  {'message': \"I don't tend to lie. If I do, it's a little one. Like, 'I'm only around the corner...' when really I'm 10 minutes away.\",\n",
       "   'user_id': '5f0e0cadbd0cd626e25ed233',\n",
       "   'username': 'Voldemort'},\n",
       "  {'message': 'I always want to give more than I gave yesterday.',\n",
       "   'user_id': '5f0e0cadbd0cd626e25ed233',\n",
       "   'username': 'Voldemort'},\n",
       "  {'message': 'Feast of Stephen, Deacon, First Martyr, the man who will not act until he knows all will never act at all.',\n",
       "   'user_id': '5f0e0cadbd0cd626e25ed252',\n",
       "   'username': 'Jennifer Aniston'},\n",
       "  {'message': 'We have actively sought and are actively seeking to make the United Nations an effective instrument of international cooperation.',\n",
       "   'user_id': '5f0e0cadbd0cd626e25ed233',\n",
       "   'username': 'Voldemort'},\n",
       "  {'message': \"It's important to make clear to all the schools at Harvard the central role of the library.\",\n",
       "   'user_id': '5f0e0cadbd0cd626e25ed24d',\n",
       "   'username': 'Dilan Dog'},\n",
       "  {'message': 'The problem is when you are writing something in retrospective, it needs a lot of courage not to change, or you will forget a certain reality, and you will just take in consideration your view today.',\n",
       "   'user_id': '5f0e0cadbd0cd626e25ed24e',\n",
       "   'username': 'Stephen Hopkins'},\n",
       "  {'message': 'Kings may be judges of the earth, but wise men are the judges of kings.',\n",
       "   'user_id': '5f0e0cadbd0cd626e25ed243',\n",
       "   'username': 'Samwise Gamgee'},\n",
       "  {'message': 'What if everything is an illusion and nothing exists? In that case, I definitely overpaid for my carpet.',\n",
       "   'user_id': '5f0e0cadbd0cd626e25ed24d',\n",
       "   'username': 'Dilan Dog'},\n",
       "  {'message': 'My dad had been an ardent amateur photographer, and he taught me to compose a photograph from the back to the front, and then populate the picture.',\n",
       "   'user_id': '5f0e0cadbd0cd626e25ed252',\n",
       "   'username': 'Jennifer Aniston'},\n",
       "  {'message': 'I have a dream that my four little children will one day live in a nation where they will not be judged by the color of their skin, but by the content of their character.',\n",
       "   'user_id': '5f0e0cadbd0cd626e25ed243',\n",
       "   'username': 'Samwise Gamgee'},\n",
       "  {'message': 'In issues of recent ethnic wars and genocides - particularly if you look at Darfur - one of the most remarkable things is our inability to act, still, despite the years of analyzing and re-analyzing what it does to subsequent generations. We still find a massive inability to step in and step up to the plate, when genocide is happening as we speak.',\n",
       "   'user_id': '5f0e0cadbd0cd626e25ed239',\n",
       "   'username': 'Aretha Franklin'},\n",
       "  {'message': 'Pitching is always a weird, difficult thing.',\n",
       "   'user_id': '5f0e0cadbd0cd626e25ed252',\n",
       "   'username': 'Jennifer Aniston'},\n",
       "  {'message': \"No one will ever know what 'In Cold Blood' took out of me. It scraped me right down to the marrow of my bones. It nearly killed me. I think, in a way, it did kill me.\",\n",
       "   'user_id': '5f0e0cadbd0cd626e25ed252',\n",
       "   'username': 'Jennifer Aniston'},\n",
       "  {'message': \"I kept a diary right after I was born. Day 1: Tired from the move. Day 2: Everyone thinks I'm an idiot.\",\n",
       "   'user_id': '5f0e0cadbd0cd626e25ed24d',\n",
       "   'username': 'Dilan Dog'}]}"
      ]
     },
     "execution_count": 115,
     "metadata": {},
     "output_type": "execute_result"
    }
   ],
   "source": [
    "res.json()"
   ]
  },
  {
   "cell_type": "markdown",
   "metadata": {},
   "source": [
    "# Get sentiment analysis"
   ]
  },
  {
   "cell_type": "markdown",
   "metadata": {},
   "source": [
    "NLP & Text Sentiment Analysis:\n",
    "​\n",
    "- [https://www.nltk.org/]\n",
    "- [https://towardsdatascience.com/basic-binary-sentiment-analysis-using-nltk-c94ba17ae386]\n",
    "- [https://www.digitalocean.com/community/tutorials/how-to-perform-sentiment-analysis-in-python-3-using-the-natural-language-toolkit-nltk]"
   ]
  },
  {
   "cell_type": "code",
   "execution_count": 116,
   "metadata": {},
   "outputs": [],
   "source": [
    "conversation_random = random.choice([row for row in df_chat['_id']])"
   ]
  },
  {
   "cell_type": "code",
   "execution_count": 117,
   "metadata": {},
   "outputs": [],
   "source": [
    "res = requests.get(f'http://localhost:3000/chat/{conversation_random}/sentiment')"
   ]
  },
  {
   "cell_type": "code",
   "execution_count": 118,
   "metadata": {},
   "outputs": [
    {
     "data": {
      "text/plain": [
       "[{'sentence': 'Curiosity is the wick in the candle of learning.',\n",
       "  'sentiment': {'neg': 0.0, 'neu': 1.0, 'pos': 0.0, 'compound': 0.0}},\n",
       " {'sentence': 'I believe more in the scissors than I do in the pencil.',\n",
       "  'sentiment': {'neg': 0.0, 'neu': 1.0, 'pos': 0.0, 'compound': 0.0}},\n",
       " {'sentence': 'The topic of leadership is a touchy one.',\n",
       "  'sentiment': {'neg': 0.0, 'neu': 1.0, 'pos': 0.0, 'compound': 0.0}},\n",
       " {'sentence': \"A lot of leaders fail because they don't have the bravery to touch that nerve or strike that chord.\",\n",
       "  'sentiment': {'neg': 0.337, 'neu': 0.663, 'pos': 0.0, 'compound': -0.7669}},\n",
       " {'sentence': \"Throughout my years, I haven't had that fear.\",\n",
       "  'sentiment': {'neg': 0.0, 'neu': 0.695, 'pos': 0.305, 'compound': 0.3875}},\n",
       " {'sentence': \"I feel like I'm held more accountable to stay healthy now because now I'm a role model to young girls to not have eating issues and to not say, 'Hey, it's OK to starve yourself' or 'It's OK to throw up after your meals' - that's not OK.\",\n",
       "  'sentiment': {'neg': 0.052, 'neu': 0.698, 'pos': 0.25, 'compound': 0.8779}},\n",
       " {'sentence': 'The way to become rich is to put all your eggs in one basket and then watch that basket.',\n",
       "  'sentiment': {'neg': 0.0, 'neu': 0.833, 'pos': 0.167, 'compound': 0.5574}},\n",
       " {'sentence': \"I'm an artist.\",\n",
       "  'sentiment': {'neg': 0.0, 'neu': 1.0, 'pos': 0.0, 'compound': 0.0}},\n",
       " {'sentence': \"And usually when I tell people I'm an artist, they just look at me and say, 'Do you paint?'\",\n",
       "  'sentiment': {'neg': 0.0, 'neu': 1.0, 'pos': 0.0, 'compound': 0.0}},\n",
       " {'sentence': \"or 'What kind of medium do you work in?'\",\n",
       "  'sentiment': {'neg': 0.0, 'neu': 1.0, 'pos': 0.0, 'compound': 0.0}},\n",
       " {'sentence': \"I wanna show that gospel, country, blues, rhythm and blues, jazz, rock 'n' roll are all just really one thing.\",\n",
       "  'sentiment': {'neg': 0.0, 'neu': 1.0, 'pos': 0.0, 'compound': 0.0}},\n",
       " {'sentence': 'Those are the American music and that is the American culture.',\n",
       "  'sentiment': {'neg': 0.0, 'neu': 1.0, 'pos': 0.0, 'compound': 0.0}},\n",
       " {'sentence': \"It's funny because 'The Book of Mormon' is 'The Book of Mormon' now.\",\n",
       "  'sentiment': {'neg': 0.0, 'neu': 0.805, 'pos': 0.195, 'compound': 0.4404}},\n",
       " {'sentence': \"When I was doing it at the very beginning, and I was a part of it for four years and always believed in it, I never really knew if it was going to be more than a convention for 'South Park' fans.\",\n",
       "  'sentiment': {'neg': 0.0, 'neu': 1.0, 'pos': 0.0, 'compound': 0.0}},\n",
       " {'sentence': \"I am fully supportive of 'open service' and committed to LGBT military families.\",\n",
       "  'sentiment': {'neg': 0.0, 'neu': 0.685, 'pos': 0.315, 'compound': 0.5563}},\n",
       " {'sentence': 'There is one thing in this good old world that is positively sure - happiness is for all who strive to be happy - and those who laugh are happy.',\n",
       "  'sentiment': {'neg': 0.0, 'neu': 0.47, 'pos': 0.53, 'compound': 0.9741}},\n",
       " {'sentence': 'Everybody is eligible - you - me - the other fellow.',\n",
       "  'sentiment': {'neg': 0.0, 'neu': 1.0, 'pos': 0.0, 'compound': 0.0}},\n",
       " {'sentence': 'Happiness is fundamentally a state of mind - not a state of body.',\n",
       "  'sentiment': {'neg': 0.0, 'neu': 0.714, 'pos': 0.286, 'compound': 0.5574}},\n",
       " {'sentence': 'Maybe one day I can have a reunion with myself.',\n",
       "  'sentiment': {'neg': 0.0, 'neu': 1.0, 'pos': 0.0, 'compound': 0.0}},\n",
       " {'sentence': \"For a long time the people at my shows were sort of the Pantera-tattoo trucker guys, really cool dudes, but I don't know what happened to them.\",\n",
       "  'sentiment': {'neg': 0.0, 'neu': 0.93, 'pos': 0.07, 'compound': 0.2014}},\n",
       " {'sentence': \"That's the crowd that I like, the ones that don't get so offended just to be offended.\",\n",
       "  'sentiment': {'neg': 0.252,\n",
       "   'neu': 0.627,\n",
       "   'pos': 0.121,\n",
       "   'compound': -0.4083}},\n",
       " {'sentence': \"'Thou shalt not get found out' is not one of God's commandments; and no man can be saved by trying to keep it.\",\n",
       "  'sentiment': {'neg': 0.085, 'neu': 0.808, 'pos': 0.108, 'compound': 0.1531}},\n",
       " {'sentence': 'I would love to act.',\n",
       "  'sentiment': {'neg': 0.0, 'neu': 0.417, 'pos': 0.583, 'compound': 0.6369}},\n",
       " {'sentence': \"I probably won't make it to Hollywood at 42 years of age, but I'd love to act.\",\n",
       "  'sentiment': {'neg': 0.0, 'neu': 0.721, 'pos': 0.279, 'compound': 0.7783}},\n",
       " {'sentence': 'I was born in Westchester, NY.',\n",
       "  'sentiment': {'neg': 0.0, 'neu': 1.0, 'pos': 0.0, 'compound': 0.0}},\n",
       " {'sentence': 'I grew up around the Rye Brook area, and then I moved to White Plains with my family.',\n",
       "  'sentiment': {'neg': 0.0, 'neu': 1.0, 'pos': 0.0, 'compound': 0.0}},\n",
       " {'sentence': 'It looks easy, like surfing, but surfing is hard too.',\n",
       "  'sentiment': {'neg': 0.13, 'neu': 0.569, 'pos': 0.301, 'compound': 0.2732}},\n",
       " {'sentence': 'The uncertainty of the danger belongs to the essence of terrorism.',\n",
       "  'sentiment': {'neg': 0.565, 'neu': 0.435, 'pos': 0.0, 'compound': -0.886}},\n",
       " {'sentence': 'Business is a combination of war and sport.',\n",
       "  'sentiment': {'neg': 0.394, 'neu': 0.606, 'pos': 0.0, 'compound': -0.5994}},\n",
       " {'sentence': \"I know it's not a one man team win or lose.\",\n",
       "  'sentiment': {'neg': 0.2, 'neu': 0.519, 'pos': 0.281, 'compound': 0.2732}},\n",
       " {'sentence': 'Every time I score the passion comes out and I try to relay that back to the fans and to the players and the staff how grateful I am to be playing for such a good football club.',\n",
       "  'sentiment': {'neg': 0.0, 'neu': 0.737, 'pos': 0.263, 'compound': 0.8658}},\n",
       " {'sentence': 'The fans have taken well to me.',\n",
       "  'sentiment': {'neg': 0.0, 'neu': 0.741, 'pos': 0.259, 'compound': 0.2732}},\n",
       " {'sentence': \"I am part of the furniture at Everton, but I don't take it for granted.\",\n",
       "  'sentiment': {'neg': 0.0, 'neu': 0.828, 'pos': 0.172, 'compound': 0.3612}},\n",
       " {'sentence': \"I couldn't date someone who didn't like dogs.\",\n",
       "  'sentiment': {'neg': 0.26, 'neu': 0.74, 'pos': 0.0, 'compound': -0.2755}},\n",
       " {'sentence': \"There are exceptions to the rule, but I find that if someone doesn't like animals, I am a little suspicious of them.\",\n",
       "  'sentiment': {'neg': 0.244, 'neu': 0.756, 'pos': 0.0, 'compound': -0.6679}},\n",
       " {'sentence': 'History laughs at both the victim and the aggressor.',\n",
       "  'sentiment': {'neg': 0.298, 'neu': 0.458, 'pos': 0.244, 'compound': 0.0772}},\n",
       " {'sentence': 'A good column is one that sells paper.',\n",
       "  'sentiment': {'neg': 0.0, 'neu': 0.674, 'pos': 0.326, 'compound': 0.4404}},\n",
       " {'sentence': \"It doesn't matter how beautifully it is written and how much you admire the author... if it doesn't sell any papers, it's not a good column.\",\n",
       "  'sentiment': {'neg': 0.212,\n",
       "   'neu': 0.687,\n",
       "   'pos': 0.101,\n",
       "   'compound': -0.3352}},\n",
       " {'sentence': \"It's a terrible yardstick to use, but in the newspaper business, that's the whole thing.\",\n",
       "  'sentiment': {'neg': 0.136, 'neu': 0.864, 'pos': 0.0, 'compound': -0.2617}},\n",
       " {'sentence': 'The best thing we can do is give students the tools for constructing their own identities - powerful new tools like African fractals - and then just get out of the way.',\n",
       "  'sentiment': {'neg': 0.0, 'neu': 0.74, 'pos': 0.26, 'compound': 0.8591}},\n",
       " {'sentence': 'Dear God, Please send to me the spirit of Your peace.',\n",
       "  'sentiment': {'neg': 0.0, 'neu': 0.33, 'pos': 0.67, 'compound': 0.8807}},\n",
       " {'sentence': 'Then send, dear Lord, the spirit of peace from me to all the world.',\n",
       "  'sentiment': {'neg': 0.0, 'neu': 0.585, 'pos': 0.415, 'compound': 0.7783}},\n",
       " {'sentence': 'Amen.',\n",
       "  'sentiment': {'neg': 0.0, 'neu': 1.0, 'pos': 0.0, 'compound': 0.0}},\n",
       " {'sentence': \"After all these years, I'm finally into soccer.\",\n",
       "  'sentiment': {'neg': 0.0, 'neu': 1.0, 'pos': 0.0, 'compound': 0.0}},\n",
       " {'sentence': \"The World Cup is on, and my band is an international group - they're all around me, cheering in the hotel bars.\",\n",
       "  'sentiment': {'neg': 0.0, 'neu': 0.858, 'pos': 0.142, 'compound': 0.5106}},\n",
       " {'sentence': 'You have to prioritize what you stress about when you have a child.',\n",
       "  'sentiment': {'neg': 0.203, 'neu': 0.797, 'pos': 0.0, 'compound': -0.4215}},\n",
       " {'sentence': 'People with film careers get a whole onslaught of people they spend 12 hours a day with every three months.',\n",
       "  'sentiment': {'neg': 0.0, 'neu': 1.0, 'pos': 0.0, 'compound': 0.0}},\n",
       " {'sentence': \"It's like speed dating.\",\n",
       "  'sentiment': {'neg': 0.0, 'neu': 0.545, 'pos': 0.455, 'compound': 0.3612}},\n",
       " {'sentence': \"You've got a fast-track to social intimacy with a whole bunch of people.\",\n",
       "  'sentiment': {'neg': 0.0, 'neu': 1.0, 'pos': 0.0, 'compound': 0.0}},\n",
       " {'sentence': 'As long as we are persistence in our pursuit of our deepest destiny, we will continue to grow.',\n",
       "  'sentiment': {'neg': 0.0, 'neu': 1.0, 'pos': 0.0, 'compound': 0.0}},\n",
       " {'sentence': 'We cannot choose the day or time when we will fully bloom.',\n",
       "  'sentiment': {'neg': 0.0, 'neu': 1.0, 'pos': 0.0, 'compound': 0.0}},\n",
       " {'sentence': 'It happens in its own time.',\n",
       "  'sentiment': {'neg': 0.0, 'neu': 1.0, 'pos': 0.0, 'compound': 0.0}},\n",
       " {'sentence': \"Always live in the ugliest house on the street - then you don't have to look at it.\",\n",
       "  'sentiment': {'neg': 0.192, 'neu': 0.808, 'pos': 0.0, 'compound': -0.5859}},\n",
       " {'sentence': \"When I'm living in L.A., I'm mainly a jeans, vintage T-shirt and Nike high-tops guy.\",\n",
       "  'sentiment': {'neg': 0.0, 'neu': 1.0, 'pos': 0.0, 'compound': 0.0}},\n",
       " {'sentence': 'Karma is only in space time and causality.',\n",
       "  'sentiment': {'neg': 0.0, 'neu': 1.0, 'pos': 0.0, 'compound': 0.0}},\n",
       " {'sentence': 'Your real self resides non-locally.',\n",
       "  'sentiment': {'neg': 0.0, 'neu': 1.0, 'pos': 0.0, 'compound': 0.0}},\n",
       " {'sentence': 'Yesterday I was a dog.',\n",
       "  'sentiment': {'neg': 0.0, 'neu': 1.0, 'pos': 0.0, 'compound': 0.0}},\n",
       " {'sentence': \"Today I'm a dog.\",\n",
       "  'sentiment': {'neg': 0.0, 'neu': 1.0, 'pos': 0.0, 'compound': 0.0}},\n",
       " {'sentence': \"Tomorrow I'll probably still be a dog.\",\n",
       "  'sentiment': {'neg': 0.0, 'neu': 1.0, 'pos': 0.0, 'compound': 0.0}},\n",
       " {'sentence': 'Sigh!',\n",
       "  'sentiment': {'neg': 0.0, 'neu': 0.0, 'pos': 1.0, 'compound': 0.1007}},\n",
       " {'sentence': \"There's so little hope for advancement.\",\n",
       "  'sentiment': {'neg': 0.0, 'neu': 0.634, 'pos': 0.366, 'compound': 0.4377}},\n",
       " {'sentence': \"I love clothes - I love shopping for clothes, I love wearing clothes, I love talking about clothes - but oddly, putting on the dress and walking around in front of people, that's the place where I'm most uncomfortable.\",\n",
       "  'sentiment': {'neg': 0.091, 'neu': 0.663, 'pos': 0.246, 'compound': 0.6768}},\n",
       " {'sentence': 'Drop the idea that you are Atlas carrying the world on your shoulders.',\n",
       "  'sentiment': {'neg': 0.149, 'neu': 0.851, 'pos': 0.0, 'compound': -0.2732}},\n",
       " {'sentence': 'The world would go on even without you.',\n",
       "  'sentiment': {'neg': 0.0, 'neu': 1.0, 'pos': 0.0, 'compound': 0.0}},\n",
       " {'sentence': \"Don't take yourself so seriously.\",\n",
       "  'sentiment': {'neg': 0.359, 'neu': 0.641, 'pos': 0.0, 'compound': -0.3052}},\n",
       " {'sentence': 'I assert that nothing ever comes to pass without a cause.',\n",
       "  'sentiment': {'neg': 0.0, 'neu': 1.0, 'pos': 0.0, 'compound': 0.0}},\n",
       " {'sentence': 'My heart has joined the thousand, for my friend stopped running today.',\n",
       "  'sentiment': {'neg': 0.126, 'neu': 0.662, 'pos': 0.212, 'compound': 0.3182}},\n",
       " {'sentence': 'The things that have been most valuable to me I did not learn in school.',\n",
       "  'sentiment': {'neg': 0.0, 'neu': 0.793, 'pos': 0.207, 'compound': 0.5256}},\n",
       " {'sentence': 'I was hanging out with Jonathan Richman last night.',\n",
       "  'sentiment': {'neg': 0.0, 'neu': 1.0, 'pos': 0.0, 'compound': 0.0}},\n",
       " {'sentence': 'Getting older is no problem.',\n",
       "  'sentiment': {'neg': 0.62, 'neu': 0.38, 'pos': 0.0, 'compound': -0.5994}},\n",
       " {'sentence': 'You just have to live long enough.',\n",
       "  'sentiment': {'neg': 0.0, 'neu': 1.0, 'pos': 0.0, 'compound': 0.0}},\n",
       " {'sentence': \"It's mostly directors whom I get starstruck around.\",\n",
       "  'sentiment': {'neg': 0.0, 'neu': 1.0, 'pos': 0.0, 'compound': 0.0}},\n",
       " {'sentence': \"For me, I never take a job thinking it's going to grab ratings or that it's even going to be a success.\",\n",
       "  'sentiment': {'neg': 0.0, 'neu': 0.829, 'pos': 0.171, 'compound': 0.5719}},\n",
       " {'sentence': \"I don't.\",\n",
       "  'sentiment': {'neg': 0.0, 'neu': 1.0, 'pos': 0.0, 'compound': 0.0}},\n",
       " {'sentence': 'I just take the job because I love the character.',\n",
       "  'sentiment': {'neg': 0.0, 'neu': 0.625, 'pos': 0.375, 'compound': 0.6369}},\n",
       " {'sentence': 'Or I love the script.',\n",
       "  'sentiment': {'neg': 0.0, 'neu': 0.417, 'pos': 0.583, 'compound': 0.6369}},\n",
       " {'sentence': 'Maybe I love the director.',\n",
       "  'sentiment': {'neg': 0.0, 'neu': 0.417, 'pos': 0.583, 'compound': 0.6369}},\n",
       " {'sentence': 'But whatever I do, I never think about how it will do.',\n",
       "  'sentiment': {'neg': 0.0, 'neu': 1.0, 'pos': 0.0, 'compound': 0.0}},\n",
       " {'sentence': 'That is not in my hands.',\n",
       "  'sentiment': {'neg': 0.0, 'neu': 1.0, 'pos': 0.0, 'compound': 0.0}},\n",
       " {'sentence': 'Happiness is like a kiss.',\n",
       "  'sentiment': {'neg': 0.0, 'neu': 0.101, 'pos': 0.899, 'compound': 0.836}},\n",
       " {'sentence': 'You must share it to enjoy it.',\n",
       "  'sentiment': {'neg': 0.0, 'neu': 0.481, 'pos': 0.519, 'compound': 0.6597}},\n",
       " {'sentence': 'Children show me in their playful smiles the divine in everyone.',\n",
       "  'sentiment': {'neg': 0.0, 'neu': 0.455, 'pos': 0.545, 'compound': 0.8625}},\n",
       " {'sentence': 'This simple goodness shines straight from their hearts and only asks to be loved.',\n",
       "  'sentiment': {'neg': 0.0, 'neu': 0.556, 'pos': 0.444, 'compound': 0.8316}},\n",
       " {'sentence': 'Deconstruction insists not that truth is illusory but that it is institutional.',\n",
       "  'sentiment': {'neg': 0.119, 'neu': 0.881, 'pos': 0.0, 'compound': -0.1232}},\n",
       " {'sentence': \"I taught myself to tune in to another person's wavelength, figure out what they were looking for, and try to project that thing back at them.\",\n",
       "  'sentiment': {'neg': 0.0, 'neu': 1.0, 'pos': 0.0, 'compound': 0.0}},\n",
       " {'sentence': \"Terrorism should be seen in the light of the country's security and not from the narrow perspective of caste, creed and religion.\",\n",
       "  'sentiment': {'neg': 0.17, 'neu': 0.741, 'pos': 0.089, 'compound': -0.4939}},\n",
       " {'sentence': 'Freedom is never voluntarily given by the oppressor; it must be demanded by the oppressed.',\n",
       "  'sentiment': {'neg': 0.236, 'neu': 0.566, 'pos': 0.198, 'compound': 0.0516}},\n",
       " {'sentence': 'My potential is more than can be expressed within the bounds of my race or ethnic identity.',\n",
       "  'sentiment': {'neg': 0.0, 'neu': 1.0, 'pos': 0.0, 'compound': 0.0}},\n",
       " {'sentence': \"My mother went to university, my father didn't.\",\n",
       "  'sentiment': {'neg': 0.0, 'neu': 1.0, 'pos': 0.0, 'compound': 0.0}},\n",
       " {'sentence': 'But they are very educated, very wise people.',\n",
       "  'sentiment': {'neg': 0.0, 'neu': 0.657, 'pos': 0.343, 'compound': 0.5657}},\n",
       " {'sentence': \"My father went to the military, so he's worldly.\",\n",
       "  'sentiment': {'neg': 0.0, 'neu': 1.0, 'pos': 0.0, 'compound': 0.0}},\n",
       " {'sentence': 'It is not difficult to govern.',\n",
       "  'sentiment': {'neg': 0.0, 'neu': 0.703, 'pos': 0.297, 'compound': 0.2755}},\n",
       " {'sentence': 'All one has to do is not to offend the noble families.',\n",
       "  'sentiment': {'neg': 0.0, 'neu': 0.672, 'pos': 0.328, 'compound': 0.5978}},\n",
       " {'sentence': 'What causes autism?',\n",
       "  'sentiment': {'neg': 0.0, 'neu': 1.0, 'pos': 0.0, 'compound': 0.0}},\n",
       " {'sentence': 'As far as we know in 2013, there is no single gene or single environmental factor that accounts for the more than 1 million Americans with ASDs.',\n",
       "  'sentiment': {'neg': 0.081, 'neu': 0.919, 'pos': 0.0, 'compound': -0.296}},\n",
       " {'sentence': \"Classical music is something that we're very passionate about, but we always thought it was presented in a stuffy way.\",\n",
       "  'sentiment': {'neg': 0.0, 'neu': 0.885, 'pos': 0.115, 'compound': 0.3284}},\n",
       " {'sentence': 'Sometimes the most happy people in life are the ones with nothing.',\n",
       "  'sentiment': {'neg': 0.0, 'neu': 0.734, 'pos': 0.266, 'compound': 0.6115}},\n",
       " {'sentence': \"We can't lose sight of the little things in life that should make us the happiest.\",\n",
       "  'sentiment': {'neg': 0.0, 'neu': 0.684, 'pos': 0.316, 'compound': 0.7549}},\n",
       " {'sentence': \"Growing old is like being increasingly penalized for a crime you haven't committed.\",\n",
       "  'sentiment': {'neg': 0.303, 'neu': 0.457, 'pos': 0.24, 'compound': -0.2764}},\n",
       " {'sentence': 'While fractal geometry is often used in high-tech science, its patterns are surprisingly common in traditional African designs.',\n",
       "  'sentiment': {'neg': 0.0, 'neu': 0.885, 'pos': 0.115, 'compound': 0.296}},\n",
       " {'sentence': 'Madrid excites me.',\n",
       "  'sentiment': {'neg': 0.0, 'neu': 0.392, 'pos': 0.608, 'compound': 0.4767}},\n",
       " {'sentence': 'They are one of the best teams in the world.',\n",
       "  'sentiment': {'neg': 0.0, 'neu': 0.682, 'pos': 0.318, 'compound': 0.6369}},\n",
       " {'sentence': 'Surely it is much more generous to forgive and remember, than to forgive and forget.',\n",
       "  'sentiment': {'neg': 0.082, 'neu': 0.433, 'pos': 0.485, 'compound': 0.8526}},\n",
       " {'sentence': 'When I tell the truth, it is not for the sake of convincing those who do not know it, but for the sake of defending those that do.',\n",
       "  'sentiment': {'neg': 0.0, 'neu': 0.877, 'pos': 0.123, 'compound': 0.3612}},\n",
       " {'sentence': \"I think that 'Degrassi' really challenged its actors.\",\n",
       "  'sentiment': {'neg': 0.22, 'neu': 0.78, 'pos': 0.0, 'compound': -0.1761}},\n",
       " {'sentence': 'I was on it for seven years, and it was one of my first jobs.',\n",
       "  'sentiment': {'neg': 0.0, 'neu': 1.0, 'pos': 0.0, 'compound': 0.0}},\n",
       " {'sentence': \"I can't even watch the early episodes - they're so embarrassing!\",\n",
       "  'sentiment': {'neg': 0.314, 'neu': 0.686, 'pos': 0.0, 'compound': -0.5659}},\n",
       " {'sentence': 'But I really do think I grew as an actor and learned a lot over the seven years.',\n",
       "  'sentiment': {'neg': 0.0, 'neu': 1.0, 'pos': 0.0, 'compound': 0.0}},\n",
       " {'sentence': 'It is true that power corrupts.',\n",
       "  'sentiment': {'neg': 0.0, 'neu': 0.641, 'pos': 0.359, 'compound': 0.4215}},\n",
       " {'sentence': 'The hope at the polling stations and the actions of the elected representatives, unfortunately, often turn to be opposite.',\n",
       "  'sentiment': {'neg': 0.108, 'neu': 0.762, 'pos': 0.13, 'compound': 0.128}},\n",
       " {'sentence': 'The power of ballot turns into the power of wallet.',\n",
       "  'sentiment': {'neg': 0.0, 'neu': 1.0, 'pos': 0.0, 'compound': 0.0}},\n",
       " {'sentence': 'Some law-makers become law-breakers.',\n",
       "  'sentiment': {'neg': 0.0, 'neu': 1.0, 'pos': 0.0, 'compound': 0.0}},\n",
       " {'sentence': \"I believe 3D is inevitable because it's about aligning our entertainment systems to our sensory system.\",\n",
       "  'sentiment': {'neg': 0.0, 'neu': 0.833, 'pos': 0.167, 'compound': 0.4215}},\n",
       " {'sentence': 'We all have two eyes; we all see the world in 3D.',\n",
       "  'sentiment': {'neg': 0.0, 'neu': 1.0, 'pos': 0.0, 'compound': 0.0}},\n",
       " {'sentence': \"And it's natural for us to want our entertainment in 3D as well.\",\n",
       "  'sentiment': {'neg': 0.0, 'neu': 0.508, 'pos': 0.492, 'compound': 0.7717}},\n",
       " {'sentence': \"It's just getting the technology - it's really more the business model than the technology piece.\",\n",
       "  'sentiment': {'neg': 0.0, 'neu': 1.0, 'pos': 0.0, 'compound': 0.0}},\n",
       " {'sentence': \"We've solved the technology.\",\n",
       "  'sentiment': {'neg': 0.0, 'neu': 0.588, 'pos': 0.412, 'compound': 0.2732}},\n",
       " {'sentence': 'Editing is where movies are made or broken.',\n",
       "  'sentiment': {'neg': 0.307, 'neu': 0.693, 'pos': 0.0, 'compound': -0.4767}},\n",
       " {'sentence': 'Many a film has been saved and many a film has been ruined in the editing room.',\n",
       "  'sentiment': {'neg': 0.164,\n",
       "   'neu': 0.688,\n",
       "   'pos': 0.148,\n",
       "   'compound': -0.0772}},\n",
       " {'sentence': \"I don't give a darn about coal or about oil.\",\n",
       "  'sentiment': {'neg': 0.0, 'neu': 1.0, 'pos': 0.0, 'compound': 0.0}},\n",
       " {'sentence': 'I do give a darn about oil jobs.',\n",
       "  'sentiment': {'neg': 0.0, 'neu': 1.0, 'pos': 0.0, 'compound': 0.0}},\n",
       " {'sentence': 'I do give a darn about the jobs that coal can bring...',\n",
       "  'sentiment': {'neg': 0.0, 'neu': 1.0, 'pos': 0.0, 'compound': 0.0}},\n",
       " {'sentence': 'I am against the Obama administration demonizing certain forms of energy and glorying others.',\n",
       "  'sentiment': {'neg': 0.0, 'neu': 0.724, 'pos': 0.276, 'compound': 0.4939}},\n",
       " {'sentence': 'I say, bring it all in.',\n",
       "  'sentiment': {'neg': 0.0, 'neu': 1.0, 'pos': 0.0, 'compound': 0.0}},\n",
       " {'sentence': 'Ours not to reason why, ours but to do and die.',\n",
       "  'sentiment': {'neg': 0.349, 'neu': 0.651, 'pos': 0.0, 'compound': -0.7469}},\n",
       " {'sentence': \"I wanted to be in 'Star Wars' when I was six years old.\",\n",
       "  'sentiment': {'neg': 0.265, 'neu': 0.735, 'pos': 0.0, 'compound': -0.5574}},\n",
       " {'sentence': 'I asked my mom for two years, and she told me I was crazy.',\n",
       "  'sentiment': {'neg': 0.179, 'neu': 0.821, 'pos': 0.0, 'compound': -0.34}},\n",
       " {'sentence': \"Surely all art is the result of one's having been in danger, of having gone through an experience all the way to the end, where no one can go any further.\",\n",
       "  'sentiment': {'neg': 0.153,\n",
       "   'neu': 0.767,\n",
       "   'pos': 0.079,\n",
       "   'compound': -0.4019}},\n",
       " {'sentence': 'I have a few girlfriends, but nearly all my friends are guys.',\n",
       "  'sentiment': {'neg': 0.0, 'neu': 0.684, 'pos': 0.316, 'compound': 0.631}},\n",
       " {'sentence': \"I don't think I ever wore girl clothes.\",\n",
       "  'sentiment': {'neg': 0.0, 'neu': 1.0, 'pos': 0.0, 'compound': 0.0}},\n",
       " {'sentence': \"I wore baggy jeans, baggy T-shirts, sweaters, just to avoid the looks that everyone gives you when you're a young female in the world.\",\n",
       "  'sentiment': {'neg': 0.095, 'neu': 0.905, 'pos': 0.0, 'compound': -0.296}},\n",
       " {'sentence': \"Basically if you burst into my office the walls themselves will flutter as if alive - maybe that's the reason for all the wings in 'Pure.'\",\n",
       "  'sentiment': {'neg': 0.0, 'neu': 0.902, 'pos': 0.098, 'compound': 0.3818}},\n",
       " {'sentence': \"How sick one gets of being 'good,' how much I should respect myself if I could burst out and make everyone wretched for twenty-four hours; embody selfishness.\",\n",
       "  'sentiment': {'neg': 0.193, 'neu': 0.707, 'pos': 0.1, 'compound': -0.4404}},\n",
       " {'sentence': \"I don't know - the idea of a specific wine paired with a specific piece of music seems a little far-fetched to me.\",\n",
       "  'sentiment': {'neg': 0.0, 'neu': 1.0, 'pos': 0.0, 'compound': 0.0}},\n",
       " {'sentence': 'But maybe I just need to be opened to it.',\n",
       "  'sentiment': {'neg': 0.0, 'neu': 1.0, 'pos': 0.0, 'compound': 0.0}},\n",
       " {'sentence': \"I don't really get star-struck, but I do get talent struck.\",\n",
       "  'sentiment': {'neg': 0.189, 'neu': 0.53, 'pos': 0.28, 'compound': 0.296}},\n",
       " {'sentence': \"If I meet somebody that I think is just wildly talented and brilliant, that's when I start getting nervous.\",\n",
       "  'sentiment': {'neg': 0.095, 'neu': 0.586, 'pos': 0.32, 'compound': 0.7184}},\n",
       " {'sentence': \"David Bruce, I think, is one of the outstanding persons for whom I've ever worked.\",\n",
       "  'sentiment': {'neg': 0.0, 'neu': 0.765, 'pos': 0.235, 'compound': 0.6124}},\n",
       " {'sentence': 'He had a sense of balance.',\n",
       "  'sentiment': {'neg': 0.0, 'neu': 1.0, 'pos': 0.0, 'compound': 0.0}},\n",
       " {'sentence': 'He was interested in everything that went on in the Embassy.',\n",
       "  'sentiment': {'neg': 0.0, 'neu': 0.787, 'pos': 0.213, 'compound': 0.4019}},\n",
       " {'sentence': \"He delegated authority, but at the same time when you needed the Ambassador's help on anything, you could go to him, and he would immediately respond.\",\n",
       "  'sentiment': {'neg': 0.0, 'neu': 0.836, 'pos': 0.164, 'compound': 0.5719}},\n",
       " {'sentence': \"As you know, Social Security functions under the premise that today's workers will help finance benefits for retirees and that these workers will then be supported by the next generation of workers paying into the same system.\",\n",
       "  'sentiment': {'neg': 0.0, 'neu': 0.767, 'pos': 0.233, 'compound': 0.8402}},\n",
       " {'sentence': \"I don't know many singers who actually do like the sound of their own voice.\",\n",
       "  'sentiment': {'neg': 0.0, 'neu': 0.839, 'pos': 0.161, 'compound': 0.3612}},\n",
       " {'sentence': \"When you choose your friends, don't be short-changed by choosing personality over character.\",\n",
       "  'sentiment': {'neg': 0.0, 'neu': 0.795, 'pos': 0.205, 'compound': 0.4767}},\n",
       " {'sentence': 'The South Downs of England reminded me a bit of my Old Virginia homeland.',\n",
       "  'sentiment': {'neg': 0.0, 'neu': 1.0, 'pos': 0.0, 'compound': 0.0}},\n",
       " {'sentence': 'I wish I had had my books when I was a kid, I do.',\n",
       "  'sentiment': {'neg': 0.0, 'neu': 0.748, 'pos': 0.252, 'compound': 0.4019}},\n",
       " {'sentence': \"See, when you drive home today, you've got a big windshield on the front of your car.\",\n",
       "  'sentiment': {'neg': 0.0, 'neu': 1.0, 'pos': 0.0, 'compound': 0.0}},\n",
       " {'sentence': \"And you've got a little bitty rearview mirror.\",\n",
       "  'sentiment': {'neg': 0.0, 'neu': 1.0, 'pos': 0.0, 'compound': 0.0}},\n",
       " {'sentence': \"And the reason the windshield is so large and the rearview mirror is so small is because what's happened in your past is not near as important as what's in your future.\",\n",
       "  'sentiment': {'neg': 0.049, 'neu': 0.951, 'pos': 0.0, 'compound': -0.1511}},\n",
       " {'sentence': 'Boulder was my U.S. base for the better part of 20 years, and it will always have a special place in my heart.',\n",
       "  'sentiment': {'neg': 0.0, 'neu': 0.781, 'pos': 0.219, 'compound': 0.6808}},\n",
       " {'sentence': \"I think it's absolutely fascinating that in Berlin the parliament can discuss actively the role of their soldiers in Afghanistan because is it still possible, literally, for a German soldier to take up arms.\",\n",
       "  'sentiment': {'neg': 0.0, 'neu': 0.831, 'pos': 0.169, 'compound': 0.7264}},\n",
       " {'sentence': 'I am very much a people person.',\n",
       "  'sentiment': {'neg': 0.0, 'neu': 1.0, 'pos': 0.0, 'compound': 0.0}},\n",
       " {'sentence': 'The goal of education is the advancement of knowledge and the dissemination of truth.',\n",
       "  'sentiment': {'neg': 0.0, 'neu': 0.85, 'pos': 0.15, 'compound': 0.3182}},\n",
       " {'sentence': 'Love is anterior to life, posterior to death, initial of creation, and the exponent of breath.',\n",
       "  'sentiment': {'neg': 0.168, 'neu': 0.56, 'pos': 0.272, 'compound': 0.34}},\n",
       " {'sentence': 'The effect of liberty to individuals is that they may do what they please: we ought to see what it will please them to do, before we risk congratulations.',\n",
       "  'sentiment': {'neg': 0.055, 'neu': 0.632, 'pos': 0.313, 'compound': 0.8689}},\n",
       " {'sentence': 'I respect the fact that many denominations have different points of view with respect to gay marriage and they can hold that in the sanctity in the place of their religion and not bless them or solemnize them.',\n",
       "  'sentiment': {'neg': 0.054, 'neu': 0.77, 'pos': 0.175, 'compound': 0.6331}},\n",
       " {'sentence': 'There is nothing new in art except talent.',\n",
       "  'sentiment': {'neg': 0.0, 'neu': 0.714, 'pos': 0.286, 'compound': 0.4215}},\n",
       " {'sentence': 'Fashion takes its inspiration from society and everyday life, which is the same for everyone, and this is perhaps the reason why certain elements recur.',\n",
       "  'sentiment': {'neg': 0.0, 'neu': 0.807, 'pos': 0.193, 'compound': 0.6705}},\n",
       " {'sentence': 'Left to ourselves, we might pick the wrong health insurance, the wrong mortgage, the wrong school for our kids; why, unless they stop us, we might pick the wrong light bulb.',\n",
       "  'sentiment': {'neg': 0.36, 'neu': 0.64, 'pos': 0.0, 'compound': -0.9274}},\n",
       " {'sentence': 'I love Winston Churchill.',\n",
       "  'sentiment': {'neg': 0.0, 'neu': 0.323, 'pos': 0.677, 'compound': 0.6369}},\n",
       " {'sentence': 'I love the wisdom he had, the sagacity.',\n",
       "  'sentiment': {'neg': 0.0, 'neu': 0.397, 'pos': 0.603, 'compound': 0.8225}},\n",
       " {'sentence': 'I like people who are independent-minded.',\n",
       "  'sentiment': {'neg': 0.0, 'neu': 0.615, 'pos': 0.385, 'compound': 0.3612}},\n",
       " {'sentence': \"People who aren't part of clans or systems, who are talented and free, and able to do things without being corrupted by the system.\",\n",
       "  'sentiment': {'neg': 0.0, 'neu': 0.769, 'pos': 0.231, 'compound': 0.765}},\n",
       " {'sentence': 'We never fail when we try to do our duty, we always fail when we neglect to do it.',\n",
       "  'sentiment': {'neg': 0.121, 'neu': 0.648, 'pos': 0.231, 'compound': 0.4019}}]"
      ]
     },
     "execution_count": 118,
     "metadata": {},
     "output_type": "execute_result"
    }
   ],
   "source": [
    "res.json()"
   ]
  },
  {
   "cell_type": "markdown",
   "metadata": {},
   "source": [
    "# Get reccomender analysis"
   ]
  },
  {
   "cell_type": "code",
   "execution_count": 119,
   "metadata": {},
   "outputs": [],
   "source": [
    "user_random = random.choice([row for row in df['_id']])"
   ]
  },
  {
   "cell_type": "code",
   "execution_count": 120,
   "metadata": {},
   "outputs": [],
   "source": [
    "res = requests.get(f'http://localhost:3000/user/{user_random}/recommend')"
   ]
  },
  {
   "cell_type": "code",
   "execution_count": 121,
   "metadata": {},
   "outputs": [
    {
     "name": "stdout",
     "output_type": "stream",
     "text": [
      "<Response [200]>\n"
     ]
    }
   ],
   "source": [
    "print(res)"
   ]
  },
  {
   "cell_type": "code",
   "execution_count": 122,
   "metadata": {},
   "outputs": [
    {
     "data": {
      "text/plain": [
       "{'Me': {'Che Guevara': 1.0},\n",
       " 'Recommended users': {'Jon Snow': 0.692808772657237,\n",
       "  'Marge Simpson': 0.7113370087114855,\n",
       "  'Samwise Gamgee': 0.7273007448617727,\n",
       "  'Tyrion Lannister': 0.6987606953986196,\n",
       "  'must4in3': 0.6815839678381815}}"
      ]
     },
     "execution_count": 122,
     "metadata": {},
     "output_type": "execute_result"
    }
   ],
   "source": [
    "res.json()"
   ]
  },
  {
   "cell_type": "code",
   "execution_count": null,
   "metadata": {},
   "outputs": [],
   "source": []
  },
  {
   "cell_type": "code",
   "execution_count": null,
   "metadata": {},
   "outputs": [],
   "source": []
  }
 ],
 "metadata": {
  "kernelspec": {
   "display_name": "Python 3",
   "language": "python",
   "name": "python3"
  },
  "language_info": {
   "codemirror_mode": {
    "name": "ipython",
    "version": 3
   },
   "file_extension": ".py",
   "mimetype": "text/x-python",
   "name": "python",
   "nbconvert_exporter": "python",
   "pygments_lexer": "ipython3",
   "version": "3.7.6"
  }
 },
 "nbformat": 4,
 "nbformat_minor": 4
}
