{
 "cells": [
  {
   "cell_type": "code",
   "execution_count": 4,
   "metadata": {},
   "outputs": [],
   "source": [
    "import requests\n",
    "from pymongo import MongoClient\n",
    "import pandas as pd\n",
    "import random"
   ]
  },
  {
   "cell_type": "markdown",
   "metadata": {},
   "source": [
    "# Create user"
   ]
  },
  {
   "cell_type": "code",
   "execution_count": 5,
   "metadata": {},
   "outputs": [],
   "source": [
    "personajes = ['Barack Obama', 'Voldemort', 'Chewbacca', 'Angela Merkel','Margherita Hack','Valentino Rossi', \n",
    "              'must4in3', 'Aretha Franklin', 'Marge Simpson', 'Darth Vader', 'Yoda', 'R2-D2', 'John Belushi',\n",
    "              'Maccio Capatonda', ' Elon Musk', 'Che Guevara', 'Gollum', 'Samwise Gamgee', 'Jon Snow','Arya Stark',\n",
    "              'Heidi', 'Hermione', 'Pikachu', 'Topolino', 'Berlusconi', 'Greta Thunberg','Hulk', 'Dilan Dog', \n",
    "              'Stephen Hopkins','Oprah Winfre', 'Frida Kahlo','Tyrion Lannister', 'Jennifer Aniston']\n",
    "\n",
    "for personage in personajes:\n",
    "    res = requests.get(f'http://localhost:3000/user/create/{personage}')"
   ]
  },
  {
   "cell_type": "code",
   "execution_count": 6,
   "metadata": {},
   "outputs": [
    {
     "name": "stdout",
     "output_type": "stream",
     "text": [
      "<Response [200]>\n"
     ]
    }
   ],
   "source": [
    "print(res)"
   ]
  },
  {
   "cell_type": "code",
   "execution_count": 7,
   "metadata": {},
   "outputs": [
    {
     "data": {
      "text/plain": [
       "{'data': {'_id': {'$oid': '5f0cdde9cf27f22204086ae2'},\n",
       "  'username': 'Jennifer Aniston'},\n",
       " 'status': 'ok'}"
      ]
     },
     "execution_count": 7,
     "metadata": {},
     "output_type": "execute_result"
    }
   ],
   "source": [
    "res.json()"
   ]
  },
  {
   "cell_type": "code",
   "execution_count": 8,
   "metadata": {},
   "outputs": [],
   "source": [
    "# check users in Mongo\n",
    "dbName = \"api_chat_sentiment_analysis\"\n",
    "mongodbURL = f\"mongodb://localhost/{dbName}\"\n",
    "client = MongoClient(mongodbURL, connectTimeoutMS=2000, serverSelectionTimeoutMS=2000)\n",
    "db = client.get_database()"
   ]
  },
  {
   "cell_type": "code",
   "execution_count": 9,
   "metadata": {},
   "outputs": [],
   "source": [
    "cur = db.user.find({\"username\":{\"$ne\": None}})"
   ]
  },
  {
   "cell_type": "code",
   "execution_count": 10,
   "metadata": {},
   "outputs": [
    {
     "data": {
      "text/html": [
       "<div>\n",
       "<style scoped>\n",
       "    .dataframe tbody tr th:only-of-type {\n",
       "        vertical-align: middle;\n",
       "    }\n",
       "\n",
       "    .dataframe tbody tr th {\n",
       "        vertical-align: top;\n",
       "    }\n",
       "\n",
       "    .dataframe thead th {\n",
       "        text-align: right;\n",
       "    }\n",
       "</style>\n",
       "<table border=\"1\" class=\"dataframe\">\n",
       "  <thead>\n",
       "    <tr style=\"text-align: right;\">\n",
       "      <th></th>\n",
       "      <th>_id</th>\n",
       "      <th>username</th>\n",
       "    </tr>\n",
       "  </thead>\n",
       "  <tbody>\n",
       "    <tr>\n",
       "      <th>0</th>\n",
       "      <td>5f0cdde8cf27f22204086ac2</td>\n",
       "      <td>Barack Obama</td>\n",
       "    </tr>\n",
       "    <tr>\n",
       "      <th>1</th>\n",
       "      <td>5f0cdde8cf27f22204086ac3</td>\n",
       "      <td>Voldemort</td>\n",
       "    </tr>\n",
       "    <tr>\n",
       "      <th>2</th>\n",
       "      <td>5f0cdde8cf27f22204086ac4</td>\n",
       "      <td>Chewbacca</td>\n",
       "    </tr>\n",
       "    <tr>\n",
       "      <th>3</th>\n",
       "      <td>5f0cdde8cf27f22204086ac5</td>\n",
       "      <td>Angela Merkel</td>\n",
       "    </tr>\n",
       "    <tr>\n",
       "      <th>4</th>\n",
       "      <td>5f0cdde8cf27f22204086ac6</td>\n",
       "      <td>Margherita Hack</td>\n",
       "    </tr>\n",
       "  </tbody>\n",
       "</table>\n",
       "</div>"
      ],
      "text/plain": [
       "                        _id         username\n",
       "0  5f0cdde8cf27f22204086ac2     Barack Obama\n",
       "1  5f0cdde8cf27f22204086ac3        Voldemort\n",
       "2  5f0cdde8cf27f22204086ac4        Chewbacca\n",
       "3  5f0cdde8cf27f22204086ac5    Angela Merkel\n",
       "4  5f0cdde8cf27f22204086ac6  Margherita Hack"
      ]
     },
     "execution_count": 10,
     "metadata": {},
     "output_type": "execute_result"
    }
   ],
   "source": [
    "df = pd.DataFrame(cur)\n",
    "df.head()"
   ]
  },
  {
   "cell_type": "markdown",
   "metadata": {},
   "source": [
    "# Create Chat"
   ]
  },
  {
   "cell_type": "code",
   "execution_count": 11,
   "metadata": {},
   "outputs": [],
   "source": [
    "df[\"_id\"]= df[\"_id\"].astype(str) "
   ]
  },
  {
   "cell_type": "code",
   "execution_count": 12,
   "metadata": {},
   "outputs": [],
   "source": [
    "five_chats = ['How I met your mother', 'Dumbledore’s Army', \n",
    "              'Tesla SpaceX','Italian restaurants in Madrid','datamad0620']\n",
    "chats_room = dict()\n",
    "for i,chat in enumerate(five_chats):   \n",
    "    chats_room[f'{chat}']= {'user_ids': [random.choice([row for row in df['_id']]) for _ in range(5)]}"
   ]
  },
  {
   "cell_type": "code",
   "execution_count": 13,
   "metadata": {},
   "outputs": [],
   "source": [
    "for room,user_ids in chats_room.items():\n",
    "    res = requests.get(f'http://localhost:3000/chat/create/{room}?user_id={user_ids.values()}')"
   ]
  },
  {
   "cell_type": "code",
   "execution_count": 14,
   "metadata": {},
   "outputs": [
    {
     "name": "stdout",
     "output_type": "stream",
     "text": [
      "<Response [200]>\n"
     ]
    }
   ],
   "source": [
    "print(res)"
   ]
  },
  {
   "cell_type": "code",
   "execution_count": 15,
   "metadata": {},
   "outputs": [
    {
     "data": {
      "text/plain": [
       "{'chat_users': 4,\n",
       " 'create chat status': 'Ok',\n",
       " 'create users status': 'Some user_id did not exist in the database, or you tried insert the same id many times',\n",
       " 'data': {'_id': {'$oid': '5f0cddebcf27f22204086ae7'},\n",
       "  'chat_name': 'datamad0620',\n",
       "  'users_ids': ['5f0cdde8cf27f22204086acb',\n",
       "   '5f0cdde8cf27f22204086ad4',\n",
       "   '5f0cdde8cf27f22204086ad2',\n",
       "   '5f0cdde8cf27f22204086ac7']}}"
      ]
     },
     "execution_count": 15,
     "metadata": {},
     "output_type": "execute_result"
    }
   ],
   "source": [
    "res.json()"
   ]
  },
  {
   "cell_type": "code",
   "execution_count": 16,
   "metadata": {},
   "outputs": [],
   "source": [
    "cur = db.chatItem.find({\"chat_name\":{\"$ne\": None}})"
   ]
  },
  {
   "cell_type": "code",
   "execution_count": 17,
   "metadata": {},
   "outputs": [
    {
     "data": {
      "text/html": [
       "<div>\n",
       "<style scoped>\n",
       "    .dataframe tbody tr th:only-of-type {\n",
       "        vertical-align: middle;\n",
       "    }\n",
       "\n",
       "    .dataframe tbody tr th {\n",
       "        vertical-align: top;\n",
       "    }\n",
       "\n",
       "    .dataframe thead th {\n",
       "        text-align: right;\n",
       "    }\n",
       "</style>\n",
       "<table border=\"1\" class=\"dataframe\">\n",
       "  <thead>\n",
       "    <tr style=\"text-align: right;\">\n",
       "      <th></th>\n",
       "      <th>_id</th>\n",
       "      <th>chat_name</th>\n",
       "      <th>users_ids</th>\n",
       "    </tr>\n",
       "  </thead>\n",
       "  <tbody>\n",
       "    <tr>\n",
       "      <th>0</th>\n",
       "      <td>5f0cddeacf27f22204086ae3</td>\n",
       "      <td>How I met your mother</td>\n",
       "      <td>[5f0cdde8cf27f22204086ad6, 5f0cdde8cf27f222040...</td>\n",
       "    </tr>\n",
       "    <tr>\n",
       "      <th>1</th>\n",
       "      <td>5f0cddebcf27f22204086ae4</td>\n",
       "      <td>Dumbledore’s Army</td>\n",
       "      <td>[5f0cdde9cf27f22204086ae1, 5f0cdde8cf27f222040...</td>\n",
       "    </tr>\n",
       "    <tr>\n",
       "      <th>2</th>\n",
       "      <td>5f0cddebcf27f22204086ae5</td>\n",
       "      <td>Tesla SpaceX</td>\n",
       "      <td>[5f0cdde9cf27f22204086ae2, 5f0cdde8cf27f222040...</td>\n",
       "    </tr>\n",
       "    <tr>\n",
       "      <th>3</th>\n",
       "      <td>5f0cddebcf27f22204086ae6</td>\n",
       "      <td>Italian restaurants in Madrid</td>\n",
       "      <td>[5f0cdde8cf27f22204086ad8, 5f0cdde8cf27f222040...</td>\n",
       "    </tr>\n",
       "    <tr>\n",
       "      <th>4</th>\n",
       "      <td>5f0cddebcf27f22204086ae7</td>\n",
       "      <td>datamad0620</td>\n",
       "      <td>[5f0cdde8cf27f22204086acb, 5f0cdde8cf27f222040...</td>\n",
       "    </tr>\n",
       "  </tbody>\n",
       "</table>\n",
       "</div>"
      ],
      "text/plain": [
       "                        _id                      chat_name  \\\n",
       "0  5f0cddeacf27f22204086ae3          How I met your mother   \n",
       "1  5f0cddebcf27f22204086ae4              Dumbledore’s Army   \n",
       "2  5f0cddebcf27f22204086ae5                   Tesla SpaceX   \n",
       "3  5f0cddebcf27f22204086ae6  Italian restaurants in Madrid   \n",
       "4  5f0cddebcf27f22204086ae7                    datamad0620   \n",
       "\n",
       "                                           users_ids  \n",
       "0  [5f0cdde8cf27f22204086ad6, 5f0cdde8cf27f222040...  \n",
       "1  [5f0cdde9cf27f22204086ae1, 5f0cdde8cf27f222040...  \n",
       "2  [5f0cdde9cf27f22204086ae2, 5f0cdde8cf27f222040...  \n",
       "3  [5f0cdde8cf27f22204086ad8, 5f0cdde8cf27f222040...  \n",
       "4  [5f0cdde8cf27f22204086acb, 5f0cdde8cf27f222040...  "
      ]
     },
     "execution_count": 17,
     "metadata": {},
     "output_type": "execute_result"
    }
   ],
   "source": [
    "df_chat = pd.DataFrame(cur)\n",
    "df_chat.head()"
   ]
  },
  {
   "cell_type": "markdown",
   "metadata": {},
   "source": [
    "# Add user in a Chat"
   ]
  },
  {
   "cell_type": "code",
   "execution_count": 38,
   "metadata": {},
   "outputs": [],
   "source": [
    "df_chat[\"_id\"]= df_chat[\"_id\"].astype(str) "
   ]
  },
  {
   "cell_type": "code",
   "execution_count": 39,
   "metadata": {},
   "outputs": [],
   "source": [
    "user_random = random.choice([row for row in df['_id']])\n",
    "conversation_random = random.choice([row for row in df_chat['_id']])"
   ]
  },
  {
   "cell_type": "code",
   "execution_count": 40,
   "metadata": {},
   "outputs": [],
   "source": [
    "res = requests.get(f'http://localhost:3000/chat/{conversation_random}/adduser?user_id={user_random}')"
   ]
  },
  {
   "cell_type": "code",
   "execution_count": 41,
   "metadata": {},
   "outputs": [
    {
     "name": "stdout",
     "output_type": "stream",
     "text": [
      "<Response [200]>\n"
     ]
    }
   ],
   "source": [
    "print(res)"
   ]
  },
  {
   "cell_type": "code",
   "execution_count": 42,
   "metadata": {},
   "outputs": [
    {
     "data": {
      "text/plain": [
       "{'chat_name': 'datamad0620',\n",
       " 'users_ids': ['5f0cdde8cf27f22204086acb',\n",
       "  '5f0cdde8cf27f22204086ad4',\n",
       "  '5f0cdde8cf27f22204086ad2',\n",
       "  '5f0cdde8cf27f22204086ac7',\n",
       "  '5f0cdde8cf27f22204086adc']}"
      ]
     },
     "execution_count": 42,
     "metadata": {},
     "output_type": "execute_result"
    }
   ],
   "source": [
    "res.json()"
   ]
  },
  {
   "cell_type": "markdown",
   "metadata": {},
   "source": [
    "# Add message in chat"
   ]
  },
  {
   "cell_type": "markdown",
   "metadata": {},
   "source": [
    "kaggle dataset quote\n",
    "https://www.kaggle.com/coolcoder22/quotes-dataset"
   ]
  },
  {
   "cell_type": "code",
   "execution_count": 43,
   "metadata": {},
   "outputs": [],
   "source": [
    "quote = pd.read_csv('inputs/quote.csv', encoding = 'latin-1')"
   ]
  },
  {
   "cell_type": "code",
   "execution_count": 44,
   "metadata": {},
   "outputs": [
    {
     "data": {
      "text/html": [
       "<div>\n",
       "<style scoped>\n",
       "    .dataframe tbody tr th:only-of-type {\n",
       "        vertical-align: middle;\n",
       "    }\n",
       "\n",
       "    .dataframe tbody tr th {\n",
       "        vertical-align: top;\n",
       "    }\n",
       "\n",
       "    .dataframe thead th {\n",
       "        text-align: right;\n",
       "    }\n",
       "</style>\n",
       "<table border=\"1\" class=\"dataframe\">\n",
       "  <thead>\n",
       "    <tr style=\"text-align: right;\">\n",
       "      <th></th>\n",
       "      <th>Auther</th>\n",
       "      <th>quote</th>\n",
       "    </tr>\n",
       "  </thead>\n",
       "  <tbody>\n",
       "    <tr>\n",
       "      <th>0</th>\n",
       "      <td>A. A. Milne</td>\n",
       "      <td>If you live to be a hundred, I want to live to...</td>\n",
       "    </tr>\n",
       "    <tr>\n",
       "      <th>1</th>\n",
       "      <td>A. A. Milne</td>\n",
       "      <td>Promise me you'll always remember: You're brav...</td>\n",
       "    </tr>\n",
       "    <tr>\n",
       "      <th>2</th>\n",
       "      <td>A. A. Milne</td>\n",
       "      <td>Did you ever stop to think, and forget to star...</td>\n",
       "    </tr>\n",
       "    <tr>\n",
       "      <th>3</th>\n",
       "      <td>A. A. Milne</td>\n",
       "      <td>Organizing is what you do before you do someth...</td>\n",
       "    </tr>\n",
       "    <tr>\n",
       "      <th>4</th>\n",
       "      <td>A. A. Milne</td>\n",
       "      <td>Weeds are flowers too, once you get to know them.</td>\n",
       "    </tr>\n",
       "    <tr>\n",
       "      <th>...</th>\n",
       "      <td>...</td>\n",
       "      <td>...</td>\n",
       "    </tr>\n",
       "    <tr>\n",
       "      <th>36160</th>\n",
       "      <td>Zsa Zsa Gabor</td>\n",
       "      <td>I know nothing about sex, because I was always...</td>\n",
       "    </tr>\n",
       "    <tr>\n",
       "      <th>36161</th>\n",
       "      <td>Zsa Zsa Gabor</td>\n",
       "      <td>Conrad Hilton was very generous to me in the d...</td>\n",
       "    </tr>\n",
       "    <tr>\n",
       "      <th>36162</th>\n",
       "      <td>Zsa Zsa Gabor</td>\n",
       "      <td>The women's movement hasn't changed my sex lif...</td>\n",
       "    </tr>\n",
       "    <tr>\n",
       "      <th>36163</th>\n",
       "      <td>Zsa Zsa Gabor</td>\n",
       "      <td>I always liked parties. You meet people; you c...</td>\n",
       "    </tr>\n",
       "    <tr>\n",
       "      <th>36164</th>\n",
       "      <td>Zsa Zsa Gabor</td>\n",
       "      <td>I love to put on diamonds and beautiful evenin...</td>\n",
       "    </tr>\n",
       "  </tbody>\n",
       "</table>\n",
       "<p>36165 rows × 2 columns</p>\n",
       "</div>"
      ],
      "text/plain": [
       "              Auther                                              quote\n",
       "0        A. A. Milne  If you live to be a hundred, I want to live to...\n",
       "1        A. A. Milne  Promise me you'll always remember: You're brav...\n",
       "2        A. A. Milne  Did you ever stop to think, and forget to star...\n",
       "3        A. A. Milne  Organizing is what you do before you do someth...\n",
       "4        A. A. Milne  Weeds are flowers too, once you get to know them.\n",
       "...              ...                                                ...\n",
       "36160  Zsa Zsa Gabor  I know nothing about sex, because I was always...\n",
       "36161  Zsa Zsa Gabor  Conrad Hilton was very generous to me in the d...\n",
       "36162  Zsa Zsa Gabor  The women's movement hasn't changed my sex lif...\n",
       "36163  Zsa Zsa Gabor  I always liked parties. You meet people; you c...\n",
       "36164  Zsa Zsa Gabor  I love to put on diamonds and beautiful evenin...\n",
       "\n",
       "[36165 rows x 2 columns]"
      ]
     },
     "execution_count": 44,
     "metadata": {},
     "output_type": "execute_result"
    }
   ],
   "source": [
    "quote"
   ]
  },
  {
   "cell_type": "code",
   "execution_count": 142,
   "metadata": {},
   "outputs": [],
   "source": [
    "conversations = []\n",
    "for _ in range(100):\n",
    "    conversations.append({random.choice([row for row in df['_id']]): random.choice([row for row in quote['quote']])})"
   ]
  },
  {
   "cell_type": "code",
   "execution_count": 143,
   "metadata": {},
   "outputs": [],
   "source": [
    "conversation_random = random.choice([row for row in df_chat['_id']])"
   ]
  },
  {
   "cell_type": "code",
   "execution_count": 144,
   "metadata": {},
   "outputs": [],
   "source": [
    "for dic in conversations:\n",
    "    for key,values in dic.items():\n",
    "        res = requests.get(f'http://localhost:3000/chat/{conversation_random}/addmessage?user_id={key}&text={values}')"
   ]
  },
  {
   "cell_type": "code",
   "execution_count": 145,
   "metadata": {},
   "outputs": [
    {
     "name": "stdout",
     "output_type": "stream",
     "text": [
      "<Response [500]>\n"
     ]
    }
   ],
   "source": [
    "print(res)"
   ]
  },
  {
   "cell_type": "code",
   "execution_count": 125,
   "metadata": {},
   "outputs": [
    {
     "data": {
      "text/plain": [
       "{'message': \"Error. user_id doesn't exist in this chat\", 'status': 'api-error'}"
      ]
     },
     "execution_count": 125,
     "metadata": {},
     "output_type": "execute_result"
    }
   ],
   "source": [
    "res.json()"
   ]
  },
  {
   "cell_type": "markdown",
   "metadata": {},
   "source": [
    "# Get messages list from a chat"
   ]
  },
  {
   "cell_type": "code",
   "execution_count": 146,
   "metadata": {},
   "outputs": [],
   "source": [
    "conversation_random = random.choice([row for row in df_chat['_id']])"
   ]
  },
  {
   "cell_type": "code",
   "execution_count": 147,
   "metadata": {},
   "outputs": [],
   "source": [
    "res = requests.get(f'http://localhost:3000/chat/{conversation_random}/list')"
   ]
  },
  {
   "cell_type": "code",
   "execution_count": 148,
   "metadata": {},
   "outputs": [
    {
     "name": "stdout",
     "output_type": "stream",
     "text": [
      "<Response [200]>\n"
     ]
    }
   ],
   "source": [
    "print(res)"
   ]
  },
  {
   "cell_type": "code",
   "execution_count": 149,
   "metadata": {},
   "outputs": [
    {
     "data": {
      "text/plain": [
       "{'chat_name': 'Italian restaurants in Madrid',\n",
       " 'conversation_id': {'$oid': '5f0cddebcf27f22204086ae6'},\n",
       " 'messages': [{'message': 'The key to success is to focus our conscious mind on things we desire not things we fear.',\n",
       "   'user_id': '5f0cdde8cf27f22204086acf',\n",
       "   'username': 'Maccio Capatonda'},\n",
       "  {'message': 'It is better to have loved and lost than never to have lost at all.',\n",
       "   'user_id': '5f0cdde8cf27f22204086ac2',\n",
       "   'username': 'Barack Obama'},\n",
       "  {'message': 'Either systems are in balance or they are falling apart. If people are acting in what appears to be a twisted way, I want to know the reason for that.',\n",
       "   'user_id': '5f0cdde8cf27f22204086ad8',\n",
       "   'username': 'Pikachu'},\n",
       "  {'message': \"Acting with Denzel is like playing tennis with someone that's better than you. You either play better tennis or get blown off the court.\",\n",
       "   'user_id': '5f0cdde8cf27f22204086ac6',\n",
       "   'username': 'Margherita Hack'},\n",
       "  {'message': 'I would never say never to returning to comedy.',\n",
       "   'user_id': '5f0cdde8cf27f22204086ad8',\n",
       "   'username': 'Pikachu'},\n",
       "  {'message': \"I'd like to be a queen in people's hearts but I don't see myself being queen of this country.\",\n",
       "   'user_id': '5f0cdde8cf27f22204086ac2',\n",
       "   'username': 'Barack Obama'},\n",
       "  {'message': \"And I hope that five years and 10 years from now, I'll be a better man, a more mature man, a wiser man, a more humble man and a more spirited man to serve the good of my people and the good of humanity.\",\n",
       "   'user_id': '5f0cdde8cf27f22204086ac6',\n",
       "   'username': 'Margherita Hack'},\n",
       "  {'message': 'We have enslaved the rest of the animal creation, and have treated our distant cousins in fur and feathers so badly that beyond doubt, if they were able to formulate a religion, they would depict the Devil in human form.',\n",
       "   'user_id': '5f0cdde8cf27f22204086acf',\n",
       "   'username': 'Maccio Capatonda'},\n",
       "  {'message': \"Everybody's life has these moments, where one thing leads to another. Some are big and obvious and some are small and seemingly insignificant.\",\n",
       "   'user_id': '5f0cdde8cf27f22204086add',\n",
       "   'username': 'Dilan Dog'},\n",
       "  {'message': 'Without labor nothing prospers.',\n",
       "   'user_id': '5f0cdde8cf27f22204086ac6',\n",
       "   'username': 'Margherita Hack'},\n",
       "  {'message': 'I have never gone on a real trip, never taken a holiday. The best holiday for me is spent in my workshops when nearly everybody else is on vacation.',\n",
       "   'user_id': '5f0cdde8cf27f22204086ac6',\n",
       "   'username': 'Margherita Hack'},\n",
       "  {'message': 'I do a lot of vocal hygiene.',\n",
       "   'user_id': '5f0cdde8cf27f22204086ad8',\n",
       "   'username': 'Pikachu'},\n",
       "  {'message': \"I am a firm believer in if you can't get it the old fashioned way, you don't need it.\",\n",
       "   'user_id': '5f0cdde8cf27f22204086ac6',\n",
       "   'username': 'Margherita Hack'},\n",
       "  {'message': 'Most of the time, people look at a piece of art online when it is just a few blocks from their house. Changing the way you walk home everyday fills life with surprises.',\n",
       "   'user_id': '5f0cdde8cf27f22204086acf',\n",
       "   'username': 'Maccio Capatonda'},\n",
       "  {'message': \"The family is one of nature's masterpieces.\",\n",
       "   'user_id': '5f0cdde8cf27f22204086ad8',\n",
       "   'username': 'Pikachu'},\n",
       "  {'message': 'Under this window in stormy weather I marry this man and woman together; Let none but Him who rules the thunder Put this man and woman asunder.',\n",
       "   'user_id': '5f0cdde8cf27f22204086ad8',\n",
       "   'username': 'Pikachu'},\n",
       "  {'message': 'That was after Napoleon died because there is still a controversy as to whether Napoleon was poisoned with arsenic. And the French say the British did it and the British say the French did it, but he died before the test for arsenic was available.',\n",
       "   'user_id': '5f0cdde8cf27f22204086ac6',\n",
       "   'username': 'Margherita Hack'},\n",
       "  {'message': 'I believe in order to make a friend, you have to be a friend.',\n",
       "   'user_id': '5f0cdde8cf27f22204086add',\n",
       "   'username': 'Dilan Dog'},\n",
       "  {'message': 'From the deepest desires often come the deadliest hate.',\n",
       "   'user_id': '5f0cdde8cf27f22204086ac2',\n",
       "   'username': 'Barack Obama'},\n",
       "  {'message': \"You can't talk about life without talking about politics. You have to have both. If you're just a political person, you're going to burn out. If you, as an artist, are just focused inward, you're going to eventually be irrelevant.\",\n",
       "   'user_id': '5f0cdde8cf27f22204086acf',\n",
       "   'username': 'Maccio Capatonda'},\n",
       "  {'message': 'To be a Christian without prayer is no more possible than to be alive without breathing.',\n",
       "   'user_id': '5f0cdde8cf27f22204086ac2',\n",
       "   'username': 'Barack Obama'},\n",
       "  {'message': 'I would no more quarrel with a man because of his religion than I would because of his art.',\n",
       "   'user_id': '5f0cdde8cf27f22204086acf',\n",
       "   'username': 'Maccio Capatonda'},\n",
       "  {'message': 'Bogging down large armies in historically complex, dangerous areas ends in disaster.',\n",
       "   'user_id': '5f0cdde8cf27f22204086ac2',\n",
       "   'username': 'Barack Obama'},\n",
       "  {'message': 'Christians often want to hide behind the walls of the church, where we are comfortable, but sometimes we have to come out of the box.',\n",
       "   'user_id': '5f0cdde8cf27f22204086ac6',\n",
       "   'username': 'Margherita Hack'},\n",
       "  {'message': 'Democracy is now going forth on a crusade against imperialism.',\n",
       "   'user_id': '5f0cdde8cf27f22204086ac2',\n",
       "   'username': 'Barack Obama'},\n",
       "  {'message': \"You know what, I'm a big coward and I'm really afraid of live audiences.\",\n",
       "   'user_id': '5f0cdde8cf27f22204086ad8',\n",
       "   'username': 'Pikachu'},\n",
       "  {'message': 'I was World Series champion in individual and synchro for the first time which was awesome.',\n",
       "   'user_id': '5f0cdde8cf27f22204086ad8',\n",
       "   'username': 'Pikachu'},\n",
       "  {'message': 'It is enough that the people know there was an election. The people who cast the votes decide nothing. The people who count the votes decide everything.',\n",
       "   'user_id': '5f0cdde8cf27f22204086ac2',\n",
       "   'username': 'Barack Obama'},\n",
       "  {'message': \"As a kid, I sat transfixed watching Ray Harryhausen's '7th Voyage of Sinbad.'\",\n",
       "   'user_id': '5f0cdde8cf27f22204086acf',\n",
       "   'username': 'Maccio Capatonda'},\n",
       "  {'message': 'Love and fear. Everything the father of a family says must inspire one or the other.',\n",
       "   'user_id': '5f0cdde8cf27f22204086ad8',\n",
       "   'username': 'Pikachu'},\n",
       "  {'message': \"Where do we say that a cell became a blade of grass, which became a starfish, which became a cat, which became a donkey, which became a human being? There's a real lack of evidence from change from actual species to a different type of species.\",\n",
       "   'user_id': '5f0cdde8cf27f22204086ac2',\n",
       "   'username': 'Barack Obama'},\n",
       "  {'message': 'It simply is not true that everything is now on the Internet, but it is true that the digital resources available through the Internet have enormous potential for education and even for self-empowerment of individuals.',\n",
       "   'user_id': '5f0cdde8cf27f22204086ac2',\n",
       "   'username': 'Barack Obama'},\n",
       "  {'message': 'I like when a girl knows what she looks like and dresses to accentuate those features.',\n",
       "   'user_id': '5f0cdde8cf27f22204086ad8',\n",
       "   'username': 'Pikachu'},\n",
       "  {'message': 'I enjoy touring. I enjoy recording the music, I enjoy dreaming it and I enjoy performing it. I also definitely enjoy selling it, because I like to eat.',\n",
       "   'user_id': '5f0cdde8cf27f22204086ac2',\n",
       "   'username': 'Barack Obama'},\n",
       "  {'message': 'My mother-in-law had a pain beneath her left breast. Turned out to be a trick knee.',\n",
       "   'user_id': '5f0cdde8cf27f22204086add',\n",
       "   'username': 'Dilan Dog'},\n",
       "  {'message': 'I have no grand scheme.',\n",
       "   'user_id': '5f0cdde8cf27f22204086acf',\n",
       "   'username': 'Maccio Capatonda'},\n",
       "  {'message': 'Sometimes the weekend gets hijacked by work, but as my mother would say, this is the right problem.',\n",
       "   'user_id': '5f0cdde8cf27f22204086ac6',\n",
       "   'username': 'Margherita Hack'},\n",
       "  {'message': 'Plan for this world as if you expect to live forever; but plan for the hereafter as if you expect to die tomorrow.',\n",
       "   'user_id': '5f0cdde8cf27f22204086ad8',\n",
       "   'username': 'Pikachu'},\n",
       "  {'message': 'Playing music is not really susceptible to theory much. Circumstances affect it so much.',\n",
       "   'user_id': '5f0cdde8cf27f22204086ac2',\n",
       "   'username': 'Barack Obama'},\n",
       "  {'message': 'What fascinated me, it was not the glory, but the contact with the public.',\n",
       "   'user_id': '5f0cdde8cf27f22204086add',\n",
       "   'username': 'Dilan Dog'},\n",
       "  {'message': 'The plainer the dress, the greater luster does beauty appear.',\n",
       "   'user_id': '5f0cdde8cf27f22204086ac2',\n",
       "   'username': 'Barack Obama'},\n",
       "  {'message': \"One of life's fundamental truths states, 'Ask and you shall receive.' As kids we get used to asking for things, but somehow we lose this ability in adulthood. We come up with all sorts of excuses and reasons to avoid any possibility of criticism or rejection.\",\n",
       "   'user_id': '5f0cdde8cf27f22204086ac2',\n",
       "   'username': 'Barack Obama'},\n",
       "  {'message': \"I make really good chicken soup, sort of from scratch. I don't make my own stock. I just use a base like a chicken stock, but everything else, all the ingredients, I do on my own.\",\n",
       "   'user_id': '5f0cdde8cf27f22204086add',\n",
       "   'username': 'Dilan Dog'},\n",
       "  {'message': 'Of all acts of man repentance is the most divine. The greatest of all faults is to be conscious of none.',\n",
       "   'user_id': '5f0cdde8cf27f22204086ac2',\n",
       "   'username': 'Barack Obama'},\n",
       "  {'message': 'Singing is an arduous business and it needs sacrifices.',\n",
       "   'user_id': '5f0cdde8cf27f22204086ac6',\n",
       "   'username': 'Margherita Hack'},\n",
       "  {'message': \"I was very young when I saw 'Gone With the Wind,' but I fell in love with Clark Gable. And when I got to work with him, I couldn't believe it. I still had a crush on him. He was quite an old man by then; he must have seen that I was head over heels, even though I was married.\",\n",
       "   'user_id': '5f0cdde8cf27f22204086ad8',\n",
       "   'username': 'Pikachu'},\n",
       "  {'message': 'Well, Italy had been overrun by the War, there had practically been civil war, north and south of the Gothic Line, heavy bombing, the northern industrial cities had been bombed heavily and we had political disorder before 1948.',\n",
       "   'user_id': '5f0cdde8cf27f22204086ac6',\n",
       "   'username': 'Margherita Hack'},\n",
       "  {'message': 'What loneliness is more lonely than distrust?',\n",
       "   'user_id': '5f0cdde8cf27f22204086ad8',\n",
       "   'username': 'Pikachu'}]}"
      ]
     },
     "execution_count": 149,
     "metadata": {},
     "output_type": "execute_result"
    }
   ],
   "source": [
    "res.json()"
   ]
  },
  {
   "cell_type": "markdown",
   "metadata": {},
   "source": [
    "# Get sentiment analysis"
   ]
  },
  {
   "cell_type": "markdown",
   "metadata": {},
   "source": [
    "NLP & Text Sentiment Analysis:\n",
    "​\n",
    "- [https://www.nltk.org/]\n",
    "- [https://towardsdatascience.com/basic-binary-sentiment-analysis-using-nltk-c94ba17ae386]\n",
    "- [https://www.digitalocean.com/community/tutorials/how-to-perform-sentiment-analysis-in-python-3-using-the-natural-language-toolkit-nltk]"
   ]
  },
  {
   "cell_type": "code",
   "execution_count": 150,
   "metadata": {},
   "outputs": [],
   "source": [
    "conversation_random = random.choice([row for row in df_chat['_id']])"
   ]
  },
  {
   "cell_type": "code",
   "execution_count": 151,
   "metadata": {},
   "outputs": [],
   "source": [
    "res = requests.get(f'http://localhost:3000/chat/{conversation_random}/sentiment')"
   ]
  },
  {
   "cell_type": "code",
   "execution_count": 152,
   "metadata": {},
   "outputs": [
    {
     "data": {
      "text/plain": [
       "[{'sentence': 'The key to success is to focus our conscious mind on things we desire not things we fear.',\n",
       "  'sentiment': {'neg': 0.0, 'neu': 0.624, 'pos': 0.376, 'compound': 0.8413}},\n",
       " {'sentence': 'It is better to have loved and lost than never to have lost at all.',\n",
       "  'sentiment': {'neg': 0.205, 'neu': 0.491, 'pos': 0.304, 'compound': 0.4939}},\n",
       " {'sentence': 'Either systems are in balance or they are falling apart.',\n",
       "  'sentiment': {'neg': 0.151, 'neu': 0.849, 'pos': 0.0, 'compound': -0.1531}},\n",
       " {'sentence': 'If people are acting in what appears to be a twisted way, I want to know the reason for that.',\n",
       "  'sentiment': {'neg': 0.0, 'neu': 0.929, 'pos': 0.071, 'compound': 0.0772}},\n",
       " {'sentence': \"Acting with Denzel is like playing tennis with someone that's better than you.\",\n",
       "  'sentiment': {'neg': 0.0, 'neu': 0.581, 'pos': 0.419, 'compound': 0.7351}},\n",
       " {'sentence': 'You either play better tennis or get blown off the court.',\n",
       "  'sentiment': {'neg': 0.0, 'neu': 0.629, 'pos': 0.371, 'compound': 0.6486}},\n",
       " {'sentence': 'I would never say never to returning to comedy.',\n",
       "  'sentiment': {'neg': 0.0, 'neu': 0.737, 'pos': 0.263, 'compound': 0.3612}},\n",
       " {'sentence': \"I'd like to be a queen in people's hearts but I don't see myself being queen of this country.\",\n",
       "  'sentiment': {'neg': 0.0, 'neu': 0.901, 'pos': 0.099, 'compound': 0.1901}},\n",
       " {'sentence': \"And I hope that five years and 10 years from now, I'll be a better man, a more mature man, a wiser man, a more humble man and a more spirited man to serve the good of my people and the good of humanity.\",\n",
       "  'sentiment': {'neg': 0.0, 'neu': 0.611, 'pos': 0.389, 'compound': 0.9568}},\n",
       " {'sentence': 'We have enslaved the rest of the animal creation, and have treated our distant cousins in fur and feathers so badly that beyond doubt, if they were able to formulate a religion, they would depict the Devil in human form.',\n",
       "  'sentiment': {'neg': 0.274,\n",
       "   'neu': 0.684,\n",
       "   'pos': 0.042,\n",
       "   'compound': -0.9098}},\n",
       " {'sentence': \"Everybody's life has these moments, where one thing leads to another.\",\n",
       "  'sentiment': {'neg': 0.0, 'neu': 1.0, 'pos': 0.0, 'compound': 0.0}},\n",
       " {'sentence': 'Some are big and obvious and some are small and seemingly insignificant.',\n",
       "  'sentiment': {'neg': 0.179, 'neu': 0.821, 'pos': 0.0, 'compound': -0.34}},\n",
       " {'sentence': 'Without labor nothing prospers.',\n",
       "  'sentiment': {'neg': 0.0, 'neu': 1.0, 'pos': 0.0, 'compound': 0.0}},\n",
       " {'sentence': 'I have never gone on a real trip, never taken a holiday.',\n",
       "  'sentiment': {'neg': 0.22, 'neu': 0.78, 'pos': 0.0, 'compound': -0.3089}},\n",
       " {'sentence': 'The best holiday for me is spent in my workshops when nearly everybody else is on vacation.',\n",
       "  'sentiment': {'neg': 0.0, 'neu': 0.685, 'pos': 0.315, 'compound': 0.7845}},\n",
       " {'sentence': 'I do a lot of vocal hygiene.',\n",
       "  'sentiment': {'neg': 0.0, 'neu': 1.0, 'pos': 0.0, 'compound': 0.0}},\n",
       " {'sentence': \"I am a firm believer in if you can't get it the old fashioned way, you don't need it.\",\n",
       "  'sentiment': {'neg': 0.0, 'neu': 1.0, 'pos': 0.0, 'compound': 0.0}},\n",
       " {'sentence': 'Most of the time, people look at a piece of art online when it is just a few blocks from their house.',\n",
       "  'sentiment': {'neg': 0.091, 'neu': 0.909, 'pos': 0.0, 'compound': -0.2263}},\n",
       " {'sentence': 'Changing the way you walk home everyday fills life with surprises.',\n",
       "  'sentiment': {'neg': 0.0, 'neu': 0.84, 'pos': 0.16, 'compound': 0.2263}},\n",
       " {'sentence': \"The family is one of nature's masterpieces.\",\n",
       "  'sentiment': {'neg': 0.0, 'neu': 0.632, 'pos': 0.368, 'compound': 0.5423}},\n",
       " {'sentence': 'Under this window in stormy weather I marry this man and woman together; Let none but Him who rules the thunder Put this man and woman asunder.',\n",
       "  'sentiment': {'neg': 0.0, 'neu': 1.0, 'pos': 0.0, 'compound': 0.0}},\n",
       " {'sentence': 'That was after Napoleon died because there is still a controversy as to whether Napoleon was poisoned with arsenic.',\n",
       "  'sentiment': {'neg': 0.298, 'neu': 0.702, 'pos': 0.0, 'compound': -0.7783}},\n",
       " {'sentence': 'And the French say the British did it and the British say the French did it, but he died before the test for arsenic was available.',\n",
       "  'sentiment': {'neg': 0.164, 'neu': 0.836, 'pos': 0.0, 'compound': -0.7096}},\n",
       " {'sentence': 'I believe in order to make a friend, you have to be a friend.',\n",
       "  'sentiment': {'neg': 0.0, 'neu': 0.584, 'pos': 0.416, 'compound': 0.7506}},\n",
       " {'sentence': 'From the deepest desires often come the deadliest hate.',\n",
       "  'sentiment': {'neg': 0.316, 'neu': 0.684, 'pos': 0.0, 'compound': -0.5719}},\n",
       " {'sentence': \"You can't talk about life without talking about politics.\",\n",
       "  'sentiment': {'neg': 0.0, 'neu': 1.0, 'pos': 0.0, 'compound': 0.0}},\n",
       " {'sentence': 'You have to have both.',\n",
       "  'sentiment': {'neg': 0.0, 'neu': 1.0, 'pos': 0.0, 'compound': 0.0}},\n",
       " {'sentence': \"If you're just a political person, you're going to burn out.\",\n",
       "  'sentiment': {'neg': 0.0, 'neu': 1.0, 'pos': 0.0, 'compound': 0.0}},\n",
       " {'sentence': \"If you, as an artist, are just focused inward, you're going to eventually be irrelevant.\",\n",
       "  'sentiment': {'neg': 0.0, 'neu': 0.843, 'pos': 0.157, 'compound': 0.3818}},\n",
       " {'sentence': 'To be a Christian without prayer is no more possible than to be alive without breathing.',\n",
       "  'sentiment': {'neg': 0.0, 'neu': 0.743, 'pos': 0.257, 'compound': 0.5405}},\n",
       " {'sentence': 'I would no more quarrel with a man because of his religion than I would because of his art.',\n",
       "  'sentiment': {'neg': 0.128, 'neu': 0.872, 'pos': 0.0, 'compound': -0.296}},\n",
       " {'sentence': 'Bogging down large armies in historically complex, dangerous areas ends in disaster.',\n",
       "  'sentiment': {'neg': 0.419, 'neu': 0.581, 'pos': 0.0, 'compound': -0.802}},\n",
       " {'sentence': 'Christians often want to hide behind the walls of the church, where we are comfortable, but sometimes we have to come out of the box.',\n",
       "  'sentiment': {'neg': 0.051, 'neu': 0.826, 'pos': 0.124, 'compound': 0.2382}},\n",
       " {'sentence': 'Democracy is now going forth on a crusade against imperialism.',\n",
       "  'sentiment': {'neg': 0.0, 'neu': 1.0, 'pos': 0.0, 'compound': 0.0}},\n",
       " {'sentence': \"You know what, I'm a big coward and I'm really afraid of live audiences.\",\n",
       "  'sentiment': {'neg': 0.2, 'neu': 0.8, 'pos': 0.0, 'compound': -0.4588}},\n",
       " {'sentence': 'I was World Series champion in individual and synchro for the first time which was awesome.',\n",
       "  'sentiment': {'neg': 0.0, 'neu': 0.619, 'pos': 0.381, 'compound': 0.8402}},\n",
       " {'sentence': 'It is enough that the people know there was an election.',\n",
       "  'sentiment': {'neg': 0.0, 'neu': 1.0, 'pos': 0.0, 'compound': 0.0}},\n",
       " {'sentence': 'The people who cast the votes decide nothing.',\n",
       "  'sentiment': {'neg': 0.0, 'neu': 1.0, 'pos': 0.0, 'compound': 0.0}},\n",
       " {'sentence': 'The people who count the votes decide everything.',\n",
       "  'sentiment': {'neg': 0.0, 'neu': 1.0, 'pos': 0.0, 'compound': 0.0}},\n",
       " {'sentence': \"As a kid, I sat transfixed watching Ray Harryhausen's '7th Voyage of Sinbad.'\",\n",
       "  'sentiment': {'neg': 0.0, 'neu': 1.0, 'pos': 0.0, 'compound': 0.0}},\n",
       " {'sentence': 'Love and fear.',\n",
       "  'sentiment': {'neg': 0.381, 'neu': 0.119, 'pos': 0.5, 'compound': 0.25}},\n",
       " {'sentence': 'Everything the father of a family says must inspire one or the other.',\n",
       "  'sentiment': {'neg': 0.0, 'neu': 0.748, 'pos': 0.252, 'compound': 0.5719}},\n",
       " {'sentence': 'Where do we say that a cell became a blade of grass, which became a starfish, which became a cat, which became a donkey, which became a human being?',\n",
       "  'sentiment': {'neg': 0.0, 'neu': 1.0, 'pos': 0.0, 'compound': 0.0}},\n",
       " {'sentence': \"There's a real lack of evidence from change from actual species to a different type of species.\",\n",
       "  'sentiment': {'neg': 0.141, 'neu': 0.859, 'pos': 0.0, 'compound': -0.3182}},\n",
       " {'sentence': 'It simply is not true that everything is now on the Internet, but it is true that the digital resources available through the Internet have enormous potential for education and even for self-empowerment of individuals.',\n",
       "  'sentiment': {'neg': 0.124, 'neu': 0.876, 'pos': 0.0, 'compound': -0.5667}},\n",
       " {'sentence': 'I like when a girl knows what she looks like and dresses to accentuate those features.',\n",
       "  'sentiment': {'neg': 0.0, 'neu': 0.706, 'pos': 0.294, 'compound': 0.6124}},\n",
       " {'sentence': 'I enjoy touring.',\n",
       "  'sentiment': {'neg': 0.0, 'neu': 0.238, 'pos': 0.762, 'compound': 0.4939}},\n",
       " {'sentence': 'I enjoy recording the music, I enjoy dreaming it and I enjoy performing it.',\n",
       "  'sentiment': {'neg': 0.0, 'neu': 0.455, 'pos': 0.545, 'compound': 0.8625}},\n",
       " {'sentence': 'I also definitely enjoy selling it, because I like to eat.',\n",
       "  'sentiment': {'neg': 0.0, 'neu': 0.417, 'pos': 0.583, 'compound': 0.8126}},\n",
       " {'sentence': 'My mother-in-law had a pain beneath her left breast.',\n",
       "  'sentiment': {'neg': 0.32, 'neu': 0.68, 'pos': 0.0, 'compound': -0.5106}},\n",
       " {'sentence': 'Turned out to be a trick knee.',\n",
       "  'sentiment': {'neg': 0.194, 'neu': 0.806, 'pos': 0.0, 'compound': -0.0516}},\n",
       " {'sentence': 'I have no grand scheme.',\n",
       "  'sentiment': {'neg': 0.306, 'neu': 0.278, 'pos': 0.417, 'compound': 0.2023}},\n",
       " {'sentence': 'Sometimes the weekend gets hijacked by work, but as my mother would say, this is the right problem.',\n",
       "  'sentiment': {'neg': 0.173, 'neu': 0.827, 'pos': 0.0, 'compound': -0.5499}},\n",
       " {'sentence': 'Plan for this world as if you expect to live forever; but plan for the hereafter as if you expect to die tomorrow.',\n",
       "  'sentiment': {'neg': 0.196, 'neu': 0.804, 'pos': 0.0, 'compound': -0.7469}},\n",
       " {'sentence': 'Playing music is not really susceptible to theory much.',\n",
       "  'sentiment': {'neg': 0.0, 'neu': 0.816, 'pos': 0.184, 'compound': 0.2023}},\n",
       " {'sentence': 'Circumstances affect it so much.',\n",
       "  'sentiment': {'neg': 0.0, 'neu': 1.0, 'pos': 0.0, 'compound': 0.0}},\n",
       " {'sentence': 'What fascinated me, it was not the glory, but the contact with the public.',\n",
       "  'sentiment': {'neg': 0.121, 'neu': 0.751, 'pos': 0.128, 'compound': 0.0323}},\n",
       " {'sentence': 'The plainer the dress, the greater luster does beauty appear.',\n",
       "  'sentiment': {'neg': 0.0, 'neu': 0.559, 'pos': 0.441, 'compound': 0.743}},\n",
       " {'sentence': \"One of life's fundamental truths states, 'Ask and you shall receive.'\",\n",
       "  'sentiment': {'neg': 0.0, 'neu': 0.781, 'pos': 0.219, 'compound': 0.4215}},\n",
       " {'sentence': 'As kids we get used to asking for things, but somehow we lose this ability in adulthood.',\n",
       "  'sentiment': {'neg': 0.161, 'neu': 0.682, 'pos': 0.156, 'compound': -0.029}},\n",
       " {'sentence': 'We come up with all sorts of excuses and reasons to avoid any possibility of criticism or rejection.',\n",
       "  'sentiment': {'neg': 0.364, 'neu': 0.636, 'pos': 0.0, 'compound': -0.8225}},\n",
       " {'sentence': 'I make really good chicken soup, sort of from scratch.',\n",
       "  'sentiment': {'neg': 0.0, 'neu': 0.715, 'pos': 0.285, 'compound': 0.4927}},\n",
       " {'sentence': \"I don't make my own stock.\",\n",
       "  'sentiment': {'neg': 0.0, 'neu': 1.0, 'pos': 0.0, 'compound': 0.0}},\n",
       " {'sentence': 'I just use a base like a chicken stock, but everything else, all the ingredients, I do on my own.',\n",
       "  'sentiment': {'neg': 0.0, 'neu': 0.896, 'pos': 0.104, 'compound': 0.1901}},\n",
       " {'sentence': 'Of all acts of man repentance is the most divine.',\n",
       "  'sentiment': {'neg': 0.0, 'neu': 0.698, 'pos': 0.302, 'compound': 0.5984}},\n",
       " {'sentence': 'The greatest of all faults is to be conscious of none.',\n",
       "  'sentiment': {'neg': 0.19, 'neu': 0.552, 'pos': 0.258, 'compound': 0.2732}},\n",
       " {'sentence': 'Singing is an arduous business and it needs sacrifices.',\n",
       "  'sentiment': {'neg': 0.0, 'neu': 1.0, 'pos': 0.0, 'compound': 0.0}},\n",
       " {'sentence': \"I was very young when I saw 'Gone With the Wind,' but I fell in love with Clark Gable.\",\n",
       "  'sentiment': {'neg': 0.0, 'neu': 0.721, 'pos': 0.279, 'compound': 0.7783}},\n",
       " {'sentence': \"And when I got to work with him, I couldn't believe it.\",\n",
       "  'sentiment': {'neg': 0.0, 'neu': 1.0, 'pos': 0.0, 'compound': 0.0}},\n",
       " {'sentence': 'I still had a crush on him.',\n",
       "  'sentiment': {'neg': 0.286, 'neu': 0.714, 'pos': 0.0, 'compound': -0.1531}},\n",
       " {'sentence': 'He was quite an old man by then; he must have seen that I was head over heels, even though I was married.',\n",
       "  'sentiment': {'neg': 0.0, 'neu': 1.0, 'pos': 0.0, 'compound': 0.0}},\n",
       " {'sentence': 'Well, Italy had been overrun by the War, there had practically been civil war, north and south of the Gothic Line, heavy bombing, the northern industrial cities had been bombed heavily and we had political disorder before 1948.',\n",
       "  'sentiment': {'neg': 0.225, 'neu': 0.73, 'pos': 0.045, 'compound': -0.8555}},\n",
       " {'sentence': 'What loneliness is more lonely than distrust?',\n",
       "  'sentiment': {'neg': 0.684, 'neu': 0.316, 'pos': 0.0, 'compound': -0.8251}}]"
      ]
     },
     "execution_count": 152,
     "metadata": {},
     "output_type": "execute_result"
    }
   ],
   "source": [
    "res.json()"
   ]
  },
  {
   "cell_type": "markdown",
   "metadata": {},
   "source": [
    "# Get reccomender analysis"
   ]
  },
  {
   "cell_type": "code",
   "execution_count": 153,
   "metadata": {},
   "outputs": [],
   "source": [
    "user_random = random.choice([row for row in df['_id']])"
   ]
  },
  {
   "cell_type": "code",
   "execution_count": 154,
   "metadata": {},
   "outputs": [],
   "source": [
    "res = requests.get(f'http://localhost:3000/user/{user_random}/recommend')"
   ]
  },
  {
   "cell_type": "code",
   "execution_count": 155,
   "metadata": {},
   "outputs": [
    {
     "name": "stdout",
     "output_type": "stream",
     "text": [
      "<Response [200]>\n"
     ]
    }
   ],
   "source": [
    "print(res)"
   ]
  },
  {
   "cell_type": "code",
   "execution_count": 156,
   "metadata": {},
   "outputs": [
    {
     "data": {
      "text/plain": [
       "{'Me': {'Margherita Hack': 1.0},\n",
       " 'Recommended users': {'Berlusconi': 0.74224128002284,\n",
       "  'Che Guevara': 0.7510979742805717,\n",
       "  'Jennifer Aniston': 0.7434144169622005,\n",
       "  'John Belushi': 0.72603642310951,\n",
       "  'Valentino Rossi': 0.7582168118772317}}"
      ]
     },
     "execution_count": 156,
     "metadata": {},
     "output_type": "execute_result"
    }
   ],
   "source": [
    "res.json()"
   ]
  },
  {
   "cell_type": "code",
   "execution_count": null,
   "metadata": {},
   "outputs": [],
   "source": []
  }
 ],
 "metadata": {
  "kernelspec": {
   "display_name": "Python 3",
   "language": "python",
   "name": "python3"
  },
  "language_info": {
   "codemirror_mode": {
    "name": "ipython",
    "version": 3
   },
   "file_extension": ".py",
   "mimetype": "text/x-python",
   "name": "python",
   "nbconvert_exporter": "python",
   "pygments_lexer": "ipython3",
   "version": "3.7.6"
  }
 },
 "nbformat": 4,
 "nbformat_minor": 4
}
